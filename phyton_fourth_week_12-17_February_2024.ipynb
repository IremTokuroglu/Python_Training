{
 "cells": [
  {
   "cell_type": "markdown",
   "metadata": {},
   "source": [
    "# 12.02.2024 Tarihli Ders"
   ]
  },
  {
   "cell_type": "markdown",
   "metadata": {},
   "source": [
    "## LOOPS"
   ]
  },
  {
   "cell_type": "markdown",
   "metadata": {},
   "source": [
    "### While"
   ]
  },
  {
   "cell_type": "code",
   "execution_count": null,
   "metadata": {},
   "outputs": [],
   "source": [
    "#ifTeki gibi while bloğu içindeki komutların tab'lı olması önemli\n",
    "while 10 > 4:#çalıştırma sonsuz döngü.\n",
    "    print(\"bu döngü sonsuza kadar çalışır\")"
   ]
  },
  {
   "cell_type": "code",
   "execution_count": null,
   "metadata": {},
   "outputs": [
    {
     "name": "stdout",
     "output_type": "stream",
     "text": [
      "bu döngü koşul sağlandıkça çıktı verir 4\n",
      "bu döngü koşul sağlandıkça çıktı verir 5\n",
      "bu döngü koşul sağlandıkça çıktı verir 6\n",
      "bu döngü koşul sağlandıkça çıktı verir 7\n",
      "bu döngü koşul sağlandıkça çıktı verir 8\n",
      "bu döngü koşul sağlandıkça çıktı verir 9\n"
     ]
    }
   ],
   "source": [
    "x = 1\n",
    "while x < 10:\n",
    "    print (x)\n",
    "    x = x + 1"
   ]
  },
  {
   "cell_type": "code",
   "execution_count": null,
   "metadata": {},
   "outputs": [],
   "source": [
    "x = 1\n",
    "\n",
    "while x < 10:\n",
    "    print(x)\n",
    "\n",
    "x = x + 1 # işlem döngü içinde olmadığı için sonsuza gider."
   ]
  },
  {
   "cell_type": "code",
   "execution_count": 1,
   "metadata": {},
   "outputs": [],
   "source": [
    "while False: #falsy değer if'Teki gibi false kabul edilir, truthy değer true kabul edilir.\n",
    "    print(\"sanki çıktı vermeyecek gibi\")\n",
    "while \"\":\n",
    "    print(\"sanki çıktı vermeyecek gibi\")"
   ]
  },
  {
   "cell_type": "code",
   "execution_count": null,
   "metadata": {},
   "outputs": [],
   "source": [
    "while True: #x+1 true ifadesini false 'a çevirmediği için sonsuz döngü olur.\n",
    "    print(x, \"çalıştırma sonsuz döngü. bu kod her türlü çıktı verir\")\n",
    "    x=x+1 #x+=1'de bu ifadeye eşit."
   ]
  },
  {
   "cell_type": "code",
   "execution_count": 2,
   "metadata": {},
   "outputs": [
    {
     "name": "stdout",
     "output_type": "stream",
     "text": [
      "while döngüsü condition False olana kadar çalışır\n"
     ]
    }
   ],
   "source": [
    "y = True\n",
    "\n",
    "while y:\n",
    "    print(\"while döngüsü condition False olana kadar çalışır\")\n",
    "    y = False"
   ]
  },
  {
   "cell_type": "code",
   "execution_count": null,
   "metadata": {},
   "outputs": [],
   "source": [
    "x *= 2 # bu ifade x= 2*x'eeşit \n",
    "x **= 2 #x = x ** 2'ye eşit."
   ]
  },
  {
   "cell_type": "code",
   "execution_count": null,
   "metadata": {},
   "outputs": [
    {
     "name": "stdout",
     "output_type": "stream",
     "text": [
      "deneme: 1\n",
      "deneme: 2\n",
      "deneme: 3\n",
      "3 deneme hakkın bitti\n"
     ]
    }
   ],
   "source": [
    "x = 1\n",
    "while x <= 3:\n",
    "    print(f\"deneme: {x}\", )\n",
    "    x += 1\n",
    "print(\"3 deneme hakkın bitti\")"
   ]
  },
  {
   "cell_type": "code",
   "execution_count": null,
   "metadata": {},
   "outputs": [
    {
     "name": "stdout",
     "output_type": "stream",
     "text": [
      "deneme: 1\n",
      "3 deneme hakkın bitti\n",
      "deneme: 2\n",
      "3 deneme hakkın bitti\n",
      "deneme: 3\n",
      "3 deneme hakkın bitti\n"
     ]
    }
   ],
   "source": [
    "x = 1\n",
    "while x <= 3:\n",
    "    print(f\"deneme: {x}\", )\n",
    "    x += 1\n",
    "    print(\"3 deneme hakkın bitti\")"
   ]
  },
  {
   "cell_type": "code",
   "execution_count": 3,
   "metadata": {},
   "outputs": [
    {
     "name": "stdout",
     "output_type": "stream",
     "text": [
      "deneme: 1, şifreniz yanlış.\n",
      "deneme: 2, şifreniz yanlış.\n",
      "deneme: 3, şifreniz yanlış.\n",
      "3 deneme hakkın bitti\n"
     ]
    }
   ],
   "source": [
    "#kendin yaptın.\n",
    "x = 1\n",
    "sifre = \"1234\"\n",
    "while x <= 3:\n",
    "    giris=input(\"şifrenizi giriniz: (3 deneme sonunda şifre eşleşmezse şifreniz bloke olacaktır) \")\n",
    "    if sifre == giris:\n",
    "         print(f\"deneme: {x}, şifreniz doğru. Hoşgeldiniz,\" )\n",
    "         x = 4\n",
    "    else:\n",
    "        print(f\"deneme: {x}, şifreniz yanlış.\" )\n",
    "        x += 1\n",
    "        if x == 4:\n",
    "            print(\"3 deneme hakkın bitti\")\n",
    "\n"
   ]
  },
  {
   "cell_type": "code",
   "execution_count": 6,
   "metadata": {},
   "outputs": [
    {
     "name": "stdout",
     "output_type": "stream",
     "text": [
      "1'in karesi : 1\n",
      "2'in karesi : 4\n",
      "3'in karesi : 9\n",
      "4'in karesi : 16\n",
      "5'in karesi : 25\n"
     ]
    }
   ],
   "source": [
    "x = 1\n",
    "while x <= 5:\n",
    "    print(f\"{x}'in karesi : {x ** 2}\" )\n",
    "    x += 1"
   ]
  },
  {
   "cell_type": "code",
   "execution_count": 17,
   "metadata": {},
   "outputs": [
    {
     "name": "stdout",
     "output_type": "stream",
     "text": [
      " girdiğinisayac sayı: 75, tahminini artır:\n",
      " girdiğinisayac sayı: 84, tahminini artır:\n",
      " girdiğinisayac sayı: 76, tahminini artır:\n",
      "malesef tahmin hakkınız bitti. üzgünüm :(\n"
     ]
    }
   ],
   "source": [
    "#kendin yaptın ama çok iyi bir çözüm değil\n",
    "bilgisayar = 95\n",
    "sayac = 1\n",
    "\n",
    "x = int(input(\"belirlediğim sayıyı tahmin et (1-100), 3 hakkınız var:\"))\n",
    "\n",
    "while x != bilgisayar and sayac <= 3:\n",
    "    \n",
    "    if x < bilgisayar:\n",
    "        print(f\" girdiğinisayac sayı: {x}, tahminini artır:\")\n",
    "\n",
    "    elif x > bilgisayar:\n",
    "        print(f\"girdiğiniz sayı: {x},tahminini azalt\")\n",
    "\n",
    "    else:\n",
    "        print(f\"tebrikler doğru bildiniz, belirlediğim sayı: {bilgisayar}\")\n",
    "        sayac=4\n",
    "    sayac += 1\n",
    "    if sayac == 4:\n",
    "        break\n",
    "    x = int(input(\"yeni değeri giriniz:\"))\n",
    "if sayac == 4:\n",
    "    print(\"malesef tahmin hakkınız bitti. üzgünüm :(\")\n",
    "else:\n",
    "    print (\"tebrikler, doğru bildiniz\")"
   ]
  },
  {
   "cell_type": "code",
   "execution_count": 18,
   "metadata": {},
   "outputs": [
    {
     "name": "stdout",
     "output_type": "stream",
     "text": [
      "Girdiğiniz sayı : 56. Tahminini azalt\n",
      "Girdiğiniz sayı : 76. Tahminini azalt\n",
      "Girdiğiniz sayı : 85. Tahminini azalt\n",
      "Girdiğiniz sayı : 45. Tahminini arttır\n",
      "Girdiğiniz sayı : 65. Tahminini azalt\n",
      "Girdiğiniz sayı : 55. Doğru bildiniz. Tebrikler. \n"
     ]
    }
   ],
   "source": [
    "#sınırsız tahmin hakkı. kaç kerede bildiğini söylemiyor.\n",
    "y = True\n",
    "\n",
    "aklımdaki_sayı = 55\n",
    "\n",
    "while y:\n",
    "\n",
    "    tahmin = int(input(\"1 ile 100 arasında bir sayı tahmin edin.\"))\n",
    "\n",
    "    if aklımdaki_sayı < tahmin:\n",
    "        print(f\"Girdiğiniz sayı : {tahmin}. Tahminini azalt\")\n",
    "\n",
    "    elif aklımdaki_sayı > tahmin:\n",
    "        print(f\"Girdiğiniz sayı : {tahmin}. Tahminini arttır\")\n",
    "\n",
    "    else:\n",
    "        print(f\"Girdiğiniz sayı : {tahmin}. Doğru bildiniz. Tebrikler. \")\n",
    "        y = False"
   ]
  },
  {
   "cell_type": "code",
   "execution_count": null,
   "metadata": {},
   "outputs": [],
   "source": [
    "#sınırsız tahmin hakkı. kaç kerede bildiğini söylüyor.\n",
    "y = True\n",
    "\n",
    "aklımdaki_sayı = 55\n",
    "\n",
    "sayaç = 0\n",
    "\n",
    "while y:\n",
    "\n",
    "    tahmin = int(input(\"1 ile 100 arasında bir sayı tahmin edin.\"))\n",
    "\n",
    "    sayaç += 1\n",
    "\n",
    "    if aklımdaki_sayı < tahmin:\n",
    "        print(f\"Girdiğiniz sayı : {tahmin}. Tahminini azalt\")\n",
    "\n",
    "    elif aklımdaki_sayı > tahmin:\n",
    "        print(f\"Girdiğiniz sayı : {tahmin}. Tahminini arttır\")\n",
    "\n",
    "    else:\n",
    "        print(f\"Girdiğiniz sayı : {tahmin}. {sayaç} kerede bildiniz. Tebrikler. \")\n",
    "\n",
    "        y = False"
   ]
  },
  {
   "cell_type": "code",
   "execution_count": null,
   "metadata": {},
   "outputs": [],
   "source": [
    "#5 tahmin hakkı. kaç kerede bildiğini söylüyor.\n",
    "y = True\n",
    "\n",
    "aklımdaki_sayı = 55\n",
    "\n",
    "sayaç = 0\n",
    "\n",
    "while y:\n",
    "\n",
    "    tahmin = int(input(\"1 ile 100 arasında bir sayı tahmin edin.\"))\n",
    "\n",
    "    sayaç += 1\n",
    "\n",
    "    if aklımdaki_sayı < tahmin:\n",
    "        print(f\"Girdiğiniz sayı : {tahmin}. Tahminini azalt\")\n",
    "\n",
    "    elif aklımdaki_sayı > tahmin:\n",
    "        print(f\"Girdiğiniz sayı : {tahmin}. Tahminini arttır\")\n",
    "\n",
    "    else:\n",
    "        print(f\"Girdiğiniz sayı : {tahmin}. {sayaç} kerede bildiniz. Tebrikler. \")\n",
    "\n",
    "        y = False\n",
    "\n",
    "    if sayaç == 5:\n",
    "        y = False"
   ]
  },
  {
   "cell_type": "code",
   "execution_count": 19,
   "metadata": {},
   "outputs": [
    {
     "name": "stdout",
     "output_type": "stream",
     "text": [
      "listenin 0. indeksinin karesi: 1\n",
      "listenin 1. indeksinin karesi: 9\n",
      "listenin 2. indeksinin karesi: 16\n",
      "listenin 3. indeksinin karesi: 36\n",
      "listenin 4. indeksinin karesi: 25\n",
      "listenin 5. indeksinin karesi: 49\n"
     ]
    }
   ],
   "source": [
    "# listenin elemanlarının karesini döndüren while döngüsünü yazın\n",
    "sayilar_listesi = [1,3,4,6,5,7]\n",
    "\n",
    "x = 0\n",
    "\n",
    "while x < len(sayilar_listesi):\n",
    "\n",
    "    print (f\"listenin {x}. indeksinin karesi: {sayilar_listesi[x] ** 2}\")\n",
    "\n",
    "    x += 1"
   ]
  },
  {
   "cell_type": "code",
   "execution_count": 23,
   "metadata": {},
   "outputs": [
    {
     "name": "stdout",
     "output_type": "stream",
     "text": [
      "yeni liste= [1, 9, 16, 36, 25, 49]\n"
     ]
    }
   ],
   "source": [
    "#listedeki elemanların karesini alıp o elemanlardan bi liste oluştur.\n",
    "sayilar_listesi = [1,3,4,6,5,7]\n",
    "\n",
    "x = 0\n",
    "\n",
    "kareler_listesi=[]\n",
    "\n",
    "\n",
    "while x < len(sayilar_listesi):\n",
    "\n",
    "    kareler_listesi.append(sayilar_listesi[x] ** 2)\n",
    "\n",
    "    x += 1\n",
    "\n",
    "print(\"yeni liste=\", kareler_listesi)"
   ]
  },
  {
   "cell_type": "code",
   "execution_count": 24,
   "metadata": {},
   "outputs": [
    {
     "name": "stdout",
     "output_type": "stream",
     "text": [
      "yeniliste= [16, 36]\n"
     ]
    }
   ],
   "source": [
    "#listedeki çift elemanların karesini alıp o elemanlardan bi liste oluştur.\n",
    "sayilar_listesi = [1,3,4,6,5,7]\n",
    "\n",
    "x = 0\n",
    "\n",
    "çiftlerin_karesi=[]\n",
    "\n",
    "while x < len(sayilar_listesi):\n",
    "\n",
    "    if sayilar_listesi[x] % 2 ==0:\n",
    "        çiftlerin_karesi.append(sayilar_listesi[x] ** 2)\n",
    "\n",
    "    x += 1\n",
    "    \n",
    "print(\"yeniliste=\", çiftlerin_karesi)\n"
   ]
  },
  {
   "cell_type": "code",
   "execution_count": null,
   "metadata": {},
   "outputs": [
    {
     "name": "stdout",
     "output_type": "stream",
     "text": [
      "yeni liste= [1, 25, 12, 49, 24, 28, 225, 36, 361, 64, 625]\n"
     ]
    }
   ],
   "source": [
    "#listesinin tek elemanlarının karesini, çift elemanlarının 2 katını liste halinde döndüren while döngüsünü yazın\n",
    "liste_2 = [1, 5, 6, 7, 12, 14, 15, 18,19,32,25] \n",
    "\n",
    "x = 0\n",
    "\n",
    "yeni_liste=[]\n",
    "\n",
    "while x < len(liste_2):\n",
    "\n",
    "    if liste_2[x] % 2: #burdan bir geleceğini bildiğim için == koymasam da problem değil.truthy gelecek sonuçta burdan. o da true.\n",
    "        yeni_liste.append(liste_2[x] ** 2)\n",
    "\n",
    "    else:\n",
    "        yeni_liste.append(liste_2[x] * 2)\n",
    "\n",
    "    x += 1\n",
    "\n",
    "print(\"yeni liste=\", yeni_liste)\n",
    "\n"
   ]
  },
  {
   "cell_type": "markdown",
   "metadata": {},
   "source": [
    "# 13.02.2024 Tarihli Ders"
   ]
  },
  {
   "cell_type": "markdown",
   "metadata": {},
   "source": [
    "## random modülü"
   ]
  },
  {
   "cell_type": "code",
   "execution_count": 26,
   "metadata": {},
   "outputs": [],
   "source": [
    "import random"
   ]
  },
  {
   "cell_type": "code",
   "execution_count": 27,
   "metadata": {},
   "outputs": [
    {
     "data": {
      "text/plain": [
       "0.12612416840318108"
      ]
     },
     "execution_count": 27,
     "metadata": {},
     "output_type": "execute_result"
    }
   ],
   "source": [
    "random.random() #random modülünün random methodu. [0,1) aralığında rastgele sayı üretir. .dan sonra 16 basamağa kadar sayı üretir."
   ]
  },
  {
   "cell_type": "code",
   "execution_count": 28,
   "metadata": {},
   "outputs": [
    {
     "data": {
      "text/plain": [
       "0.6820045605879779"
      ]
     },
     "execution_count": 28,
     "metadata": {},
     "output_type": "execute_result"
    }
   ],
   "source": [
    "random.seed(37) #burdaki değere göre bana bir random sayı ver. buraya herkes aynı sayıyı yazdığında herkeste aynı random çıktıyı verir.\n",
    "random.random()"
   ]
  },
  {
   "cell_type": "code",
   "execution_count": 32,
   "metadata": {},
   "outputs": [
    {
     "data": {
      "text/plain": [
       "48"
      ]
     },
     "execution_count": 32,
     "metadata": {},
     "output_type": "execute_result"
    }
   ],
   "source": [
    "random.randint(1,50) #parantez aralığında, endpointlerde dahil olmak üzere rastgele sayı üretir."
   ]
  },
  {
   "cell_type": "code",
   "execution_count": 7,
   "metadata": {},
   "outputs": [
    {
     "data": {
      "text/plain": [
       "[37, 28, 40, 97, 58]"
      ]
     },
     "execution_count": 7,
     "metadata": {},
     "output_type": "execute_result"
    }
   ],
   "source": [
    "random.sample(range(100), 5) #range'in ürettiği sayılar içinde beş tanesini seçer."
   ]
  },
  {
   "cell_type": "code",
   "execution_count": 36,
   "metadata": {},
   "outputs": [
    {
     "ename": "ValueError",
     "evalue": "Sample larger than population or is negative",
     "output_type": "error",
     "traceback": [
      "\u001b[1;31m---------------------------------------------------------------------------\u001b[0m",
      "\u001b[1;31mValueError\u001b[0m                                Traceback (most recent call last)",
      "Cell \u001b[1;32mIn[36], line 1\u001b[0m\n\u001b[1;32m----> 1\u001b[0m \u001b[43mrandom\u001b[49m\u001b[38;5;241;43m.\u001b[39;49m\u001b[43msample\u001b[49m\u001b[43m(\u001b[49m\u001b[38;5;28;43mrange\u001b[39;49m\u001b[43m(\u001b[49m\u001b[38;5;241;43m4\u001b[39;49m\u001b[43m)\u001b[49m\u001b[43m,\u001b[49m\u001b[43m \u001b[49m\u001b[38;5;241;43m5\u001b[39;49m\u001b[43m)\u001b[49m \u001b[38;5;66;03m#range'in ürettiği sayılar içinde beş tanesini seçer.\u001b[39;00m\n",
      "File \u001b[1;32mc:\\Users\\iremtokuroglu\\AppData\\Local\\Programs\\Python\\Python312\\Lib\\random.py:430\u001b[0m, in \u001b[0;36mRandom.sample\u001b[1;34m(self, population, k, counts)\u001b[0m\n\u001b[0;32m    428\u001b[0m randbelow \u001b[38;5;241m=\u001b[39m \u001b[38;5;28mself\u001b[39m\u001b[38;5;241m.\u001b[39m_randbelow\n\u001b[0;32m    429\u001b[0m \u001b[38;5;28;01mif\u001b[39;00m \u001b[38;5;129;01mnot\u001b[39;00m \u001b[38;5;241m0\u001b[39m \u001b[38;5;241m<\u001b[39m\u001b[38;5;241m=\u001b[39m k \u001b[38;5;241m<\u001b[39m\u001b[38;5;241m=\u001b[39m n:\n\u001b[1;32m--> 430\u001b[0m     \u001b[38;5;28;01mraise\u001b[39;00m \u001b[38;5;167;01mValueError\u001b[39;00m(\u001b[38;5;124m\"\u001b[39m\u001b[38;5;124mSample larger than population or is negative\u001b[39m\u001b[38;5;124m\"\u001b[39m)\n\u001b[0;32m    431\u001b[0m result \u001b[38;5;241m=\u001b[39m [\u001b[38;5;28;01mNone\u001b[39;00m] \u001b[38;5;241m*\u001b[39m k\n\u001b[0;32m    432\u001b[0m setsize \u001b[38;5;241m=\u001b[39m \u001b[38;5;241m21\u001b[39m        \u001b[38;5;66;03m# size of a small set minus size of an empty list\u001b[39;00m\n",
      "\u001b[1;31mValueError\u001b[0m: Sample larger than population or is negative"
     ]
    }
   ],
   "source": [
    "random.sample(range(4), 5) #range'in ürettiği sayılar içinde beş tanesini seçer.aynı sayıyı iki kere seçmiyor.toplam zaten 4 sayı üretildiği için 5inciyi seçmiyor ve hata veriyor."
   ]
  },
  {
   "cell_type": "code",
   "execution_count": null,
   "metadata": {},
   "outputs": [],
   "source": [
    "y = True\n",
    "\n",
    "aklımdaki_sayı = random.randint(1,100)\n",
    "\n",
    "while y:\n",
    "\n",
    "    tahmin = int(input(\"1 ile 100 arasında bir sayı tahmin edin.\"))\n",
    "\n",
    "    if aklımdaki_sayı < tahmin:\n",
    "        print(f\"Girdiğiniz sayı : {tahmin}. Tahminini azalt\")\n",
    "\n",
    "    elif aklımdaki_sayı > tahmin:\n",
    "        print(f\"Girdiğiniz sayı : {tahmin}. Tahminini arttır\")\n",
    "\n",
    "    else:\n",
    "        print(f\"Girdiğiniz sayı : {tahmin}. Doğru bildiniz. Tebrikler. \")\n",
    "        y = False"
   ]
  },
  {
   "cell_type": "markdown",
   "metadata": {},
   "source": [
    "## break ve continue :"
   ]
  },
  {
   "cell_type": "code",
   "execution_count": 38,
   "metadata": {},
   "outputs": [
    {
     "name": "stdout",
     "output_type": "stream",
     "text": [
      "Girdiğiniz sayı: 55. tahmini azalt.\n",
      "Girdiğiniz sayı: 35. tahmini artır.\n",
      "Girdiğiniz sayı: 43. tahmini artır.\n",
      "Girdiğiniz sayı: 47. tahmini artır.\n",
      "Girdiğiniz sayı: 50. tahmini azalt.\n",
      "Girdiğiniz sayı: 48. tahmini artır.\n",
      "Girdiğiniz sayı: 49. bildiniz.\n"
     ]
    }
   ],
   "source": [
    "#break ve continue :döngünün belli noktasıında döngüden çıkılmassı için.veya bir şart sağlandığında  devam eden kod bloğundan çıkılması için.\n",
    "aklimdaki_sayi = random.randint(1,100)\n",
    "\n",
    "y=True\n",
    "\n",
    "while y:\n",
    "\n",
    "    tahmin = int(input(\"1-100 arasında bir sayı tahmin edin\"))\n",
    "\n",
    "    if aklimdaki_sayi < tahmin:\n",
    "        print(f\"Girdiğiniz sayı: {tahmin}. tahmini azalt.\")\n",
    "\n",
    "    elif aklimdaki_sayi > tahmin:\n",
    "        print(f\"Girdiğiniz sayı: {tahmin}. tahmini artır.\")\n",
    "        \n",
    "    else :\n",
    "        print(f\"Girdiğiniz sayı: {tahmin}. bildiniz.\")\n",
    "\n",
    "        break\n"
   ]
  },
  {
   "cell_type": "code",
   "execution_count": 44,
   "metadata": {},
   "outputs": [],
   "source": [
    "#bazen kod saçmalıyor. çıktıyı geç veriyor vs. bu üst üste kodun çalıştırılmasından bir önceki kodun sonuç vermesini beklememesinden kaynaklanıyor. bunu engellemek için time modülünü import edip bu modülün sleep fonksiyonunu kullanabiliriz.mu fonksiyon yazıdlığı yerde hiçbir şey yapılmadan parantez içindeki sn kadar beklenmesiini sağlar.\n",
    "import time\n",
    "aklımdaki_sayı = random.randint(1,100) #5 haklı sayı tahmin oyunu\n",
    "\n",
    "time.sleep(2)\n",
    "\n",
    "sayaç = 0\n",
    "\n",
    "while True:\n",
    "\n",
    "    tahmin = int(input(\"1 ile 100 arasında bir sayı tahmin edin.\"))\n",
    "\n",
    "    sayaç += 1\n",
    "\n",
    "    time.sleep(2)\n",
    "\n",
    "    if aklımdaki_sayı < tahmin:\n",
    "        print(f\"Girdiğiniz sayı : {tahmin}. Tahminini azalt\")\n",
    "\n",
    "    elif aklımdaki_sayı > tahmin:\n",
    "        print(f\"Girdiğiniz sayı : {tahmin}. Tahminini arttır\")\n",
    "\n",
    "    else:\n",
    "        print(f\"Girdiğiniz sayı : {tahmin}. Doğru bildiniz. Tebrikler. \")\n",
    "        break\n",
    "\n",
    "    time.sleep(2)\n",
    "\n",
    "    if sayaç == 5:\n",
    "        print(f\"5 hakkın bitti. sayı {aklımdaki_sayı}\")\n",
    "        break"
   ]
  },
  {
   "cell_type": "code",
   "execution_count": 9,
   "metadata": {},
   "outputs": [
    {
     "name": "stdout",
     "output_type": "stream",
     "text": [
      "10\n"
     ]
    }
   ],
   "source": [
    "liste = [1, 2, 3, 4, \"Techpro\", 5, 6, 7] # sırayla int değerleri toplayın. str ifadeye denk gelince kod sonlansın\n",
    "\n",
    "x = 0\n",
    "\n",
    "toplam = 0\n",
    "\n",
    "while True:\n",
    "\n",
    "    if type(liste[x]) == int:\n",
    "        toplam += liste[x]\n",
    "\n",
    "    elif type(liste[x]) == str:\n",
    "        break\n",
    "    \n",
    "    x += 1\n",
    "\n",
    "print(toplam)\n",
    "\n"
   ]
  },
  {
   "cell_type": "code",
   "execution_count": 8,
   "metadata": {},
   "outputs": [
    {
     "name": "stdout",
     "output_type": "stream",
     "text": [
      "28\n"
     ]
    }
   ],
   "source": [
    "liste = [1, 2, 3, 4, \"Techpro\", 5, 6, 7] # sırayla int değerleri toplayın. str ifadeye denk gelince o ifedayi atlayın ve devam edin\n",
    "\n",
    "\n",
    "x = 0\n",
    "\n",
    "toplam = 0\n",
    "\n",
    "while x < len(liste):\n",
    "\n",
    "    if type(liste[x]) == int:\n",
    "        toplam += liste[x]\n",
    "\n",
    "    elif type(liste[x]) == str:\n",
    "        x += 1\n",
    "        continue\n",
    "\n",
    "    x += 1\n",
    "\n",
    "\n",
    "\n",
    "\n",
    "print(toplam)"
   ]
  },
  {
   "cell_type": "markdown",
   "metadata": {},
   "source": [
    "### min(), max()"
   ]
  },
  {
   "cell_type": "code",
   "execution_count": 12,
   "metadata": {},
   "outputs": [
    {
     "name": "stdout",
     "output_type": "stream",
     "text": [
      "1\n",
      "256\n"
     ]
    }
   ],
   "source": [
    "#min(), max () fonksiyonları içine iterable alır.\n",
    "liste = [2, 5, 1, 3, 9, 4, 6, 8, 15, 48, 256]\n",
    "print(min(liste))\n",
    "print(max(liste))"
   ]
  },
  {
   "cell_type": "code",
   "execution_count": 17,
   "metadata": {},
   "outputs": [
    {
     "name": "stdout",
     "output_type": "stream",
     "text": [
      "age\n",
      "age4\n"
     ]
    }
   ],
   "source": [
    "dict_1= {\"age\" : 20, \"age2\" : 40, \"age3\" : 60, \"age3\" : 80}\n",
    "print(min(dict_1))\n",
    "print(max(dict_1))"
   ]
  },
  {
   "cell_type": "code",
   "execution_count": 19,
   "metadata": {},
   "outputs": [
    {
     "data": {
      "text/plain": [
       "4"
      ]
     },
     "execution_count": 19,
     "metadata": {},
     "output_type": "execute_result"
    }
   ],
   "source": [
    "tuple = (5,8,4,6,9)\n",
    "min(tuple)"
   ]
  },
  {
   "cell_type": "code",
   "execution_count": 18,
   "metadata": {},
   "outputs": [
    {
     "data": {
      "text/plain": [
       "{'age': 20, 'age2': 40, 'age3': 80}"
      ]
     },
     "execution_count": 18,
     "metadata": {},
     "output_type": "execute_result"
    }
   ],
   "source": [
    "dict_1= {\"age\" : 20, \"age2\" : 40, \"age3\" : 60, \"age3\" : 80} # ilginç, aynı key koydum hata vermedi ama ikinci yazdığım age3'ün değerini aldı.\n",
    "dict_1"
   ]
  },
  {
   "cell_type": "code",
   "execution_count": 20,
   "metadata": {},
   "outputs": [
    {
     "data": {
      "text/plain": [
       "'ayhan'"
      ]
     },
     "execution_count": 20,
     "metadata": {},
     "output_type": "execute_result"
    }
   ],
   "source": [
    "min([\"techpro\", \"ayhan\", \"irem\"]) #asciye göre alır."
   ]
  },
  {
   "cell_type": "code",
   "execution_count": 21,
   "metadata": {},
   "outputs": [
    {
     "ename": "TypeError",
     "evalue": "'<' not supported between instances of 'int' and 'str'",
     "output_type": "error",
     "traceback": [
      "\u001b[1;31m---------------------------------------------------------------------------\u001b[0m",
      "\u001b[1;31mTypeError\u001b[0m                                 Traceback (most recent call last)",
      "Cell \u001b[1;32mIn[21], line 1\u001b[0m\n\u001b[1;32m----> 1\u001b[0m \u001b[38;5;28;43mmin\u001b[39;49m\u001b[43m(\u001b[49m\u001b[43m[\u001b[49m\u001b[38;5;124;43m\"\u001b[39;49m\u001b[38;5;124;43mtechpro\u001b[39;49m\u001b[38;5;124;43m\"\u001b[39;49m\u001b[43m,\u001b[49m\u001b[43m \u001b[49m\u001b[38;5;124;43m\"\u001b[39;49m\u001b[38;5;124;43mayhan\u001b[39;49m\u001b[38;5;124;43m\"\u001b[39;49m\u001b[43m,\u001b[49m\u001b[43m \u001b[49m\u001b[38;5;124;43m\"\u001b[39;49m\u001b[38;5;124;43mirem\u001b[39;49m\u001b[38;5;124;43m\"\u001b[39;49m\u001b[43m,\u001b[49m\u001b[43m \u001b[49m\u001b[38;5;241;43m15\u001b[39;49m\u001b[43m]\u001b[49m\u001b[43m)\u001b[49m \u001b[38;5;66;03m#farklı datatypelar hata verir.\u001b[39;00m\n",
      "\u001b[1;31mTypeError\u001b[0m: '<' not supported between instances of 'int' and 'str'"
     ]
    }
   ],
   "source": [
    "min([\"techpro\", \"ayhan\", \"irem\", 15]) #farklı datatypelar hata verir."
   ]
  },
  {
   "cell_type": "code",
   "execution_count": 24,
   "metadata": {},
   "outputs": [
    {
     "name": "stdout",
     "output_type": "stream",
     "text": [
      "0\n",
      "91\n"
     ]
    }
   ],
   "source": [
    "liste_1 = [4,5,6,9,85,23,65,47,32,91] #listenin en küçük ve en büyük elamanınnı min, max ve sort kullanmadan bul.\n",
    "\n",
    "x = 0\n",
    "\n",
    "min = liste_1[0] #burada 0 atayamazsın.atıyorum listede 0 yoktur ve tüm değerler 0'dan büyüktür. sonuç 0 vereceği için yanlış sonuç alırsın\n",
    "\n",
    "max = liste_1[0]\n",
    "\n",
    "while x < len(liste_1):\n",
    "\n",
    "    if min > liste_1[x]:\n",
    "        min = liste_1[x]\n",
    "\n",
    "    if max < liste_1[x]:\n",
    "        max = liste_1[x]\n",
    "\n",
    "    x += 1\n",
    "\n",
    "print(min)\n",
    "\n",
    "print(max)"
   ]
  },
  {
   "cell_type": "markdown",
   "metadata": {},
   "source": [
    "# 14.02.2024 Mentoring"
   ]
  },
  {
   "cell_type": "markdown",
   "metadata": {},
   "source": [
    "# 15.02.2024 Tarihli Ders"
   ]
  },
  {
   "cell_type": "markdown",
   "metadata": {},
   "source": [
    "## For Döngüsü "
   ]
  },
  {
   "cell_type": "code",
   "execution_count": 43,
   "metadata": {},
   "outputs": [
    {
     "name": "stdout",
     "output_type": "stream",
     "text": [
      "t - tt\n",
      "e - ee\n",
      "c - cc\n",
      "h - hh\n",
      "p - pp\n",
      "r - rr\n",
      "o - oo\n"
     ]
    }
   ],
   "source": [
    "for i in \"techpro\": # for döndüsü iterable'lar ile çalışır. for i in 1453: for i in True: gibi iterable olmayanlar hata verir.\n",
    "    print(i, \"-\", i*2)"
   ]
  },
  {
   "cell_type": "code",
   "execution_count": 44,
   "metadata": {},
   "outputs": [
    {
     "data": {
      "text/plain": [
       "'o'"
      ]
     },
     "execution_count": 44,
     "metadata": {},
     "output_type": "execute_result"
    }
   ],
   "source": [
    "i #atanan son değer for yapısındaki i değişkeni içinde kaldı."
   ]
  },
  {
   "cell_type": "code",
   "execution_count": 18,
   "metadata": {},
   "outputs": [
    {
     "data": {
      "text/plain": [
       "False"
      ]
     },
     "execution_count": 18,
     "metadata": {},
     "output_type": "execute_result"
    }
   ],
   "source": [
    "\"a\" in \"hello\" #in operatörü iterable'lar ile çalışır,  boolean döndürür. Var mı? sorusunun cevabıdır. 1 in 1453 ifadesi hata verir.uniterable"
   ]
  },
  {
   "cell_type": "code",
   "execution_count": 27,
   "metadata": {},
   "outputs": [
    {
     "name": "stdout",
     "output_type": "stream",
     "text": [
      "1\n",
      "4\n",
      "9\n",
      "16\n",
      "25\n"
     ]
    }
   ],
   "source": [
    "liste_2 = [1, 2, 3, 4, 5] #for döngüsü ile bir listedeki değerlerin karesini yazdırma.\n",
    "\n",
    "for i in liste_2:\n",
    "    print(i ** 2)"
   ]
  },
  {
   "cell_type": "code",
   "execution_count": 28,
   "metadata": {},
   "outputs": [
    {
     "name": "stdout",
     "output_type": "stream",
     "text": [
      "1\n",
      "4\n",
      "9\n",
      "16\n",
      "25\n"
     ]
    }
   ],
   "source": [
    "x=0                     #while döngüsü ile bir listedeki değerlerin karesini yazdırma.\n",
    "\n",
    "while x < len(liste_2):\n",
    "\n",
    "    print(liste_2[x]**2)\n",
    "\n",
    "    x+=1"
   ]
  },
  {
   "cell_type": "code",
   "execution_count": 32,
   "metadata": {},
   "outputs": [
    {
     "name": "stdout",
     "output_type": "stream",
     "text": [
      "[1, 16, 9, 4, 25]\n"
     ]
    }
   ],
   "source": [
    "#bunu kendin yaptın\n",
    "liste_2 = [1, 2, 3, 4, 5]\n",
    "for j in liste_2:\n",
    "    liste_2[liste_2.index(j)]=j**2\n",
    "    \n",
    "print(liste_2) #aynı eleman varsa yani 2 ve 4. indexte 2.yi değiştirir sadece gibi. ayrıca listeye append yapmak gerektiğinde bunu yeni bir liste ile yap. Yoksa sonsuza gitme ihtimali çıkar."
   ]
  },
  {
   "cell_type": "code",
   "execution_count": 30,
   "metadata": {},
   "outputs": [
    {
     "name": "stdout",
     "output_type": "stream",
     "text": [
      "1 sayısının karesi: 1\n",
      "2 sayısının karesi: 4\n",
      "3 sayısının karesi: 9\n",
      "4 sayısının karesi: 16\n",
      "5 sayısının karesi: 25\n"
     ]
    }
   ],
   "source": [
    "for i in (1,2,3,4,5):\n",
    "    print(f\"{i} sayısının karesi: {i**2}\")"
   ]
  },
  {
   "cell_type": "code",
   "execution_count": 47,
   "metadata": {},
   "outputs": [
    {
     "name": "stdout",
     "output_type": "stream",
     "text": [
      "Irem\n",
      "Cihan\n",
      "Bahar\n",
      "Metehan\n"
     ]
    }
   ],
   "source": [
    "isimler_listesi = [\"irem\", \"cihan\", \"bahar\", \"metehan\"]\n",
    "for i in isimler_listesi:\n",
    "    print(i.capitalize())"
   ]
  },
  {
   "cell_type": "code",
   "execution_count": 50,
   "metadata": {},
   "outputs": [
    {
     "name": "stdout",
     "output_type": "stream",
     "text": [
      "T-e-c-h-p-r-o\n"
     ]
    }
   ],
   "source": [
    "empty_str=\"\"\n",
    "for i in \"Techpro\":\n",
    "    empty_str+=i+ \"-\"\n",
    "\n",
    "print(empty_str.strip(\"-\"))"
   ]
  },
  {
   "cell_type": "code",
   "execution_count": 54,
   "metadata": {},
   "outputs": [
    {
     "name": "stdout",
     "output_type": "stream",
     "text": [
      "name\n",
      "age\n",
      "job\n"
     ]
    }
   ],
   "source": [
    "dict_1 = {\"name\" : \"dilek\", \"age\": 39, \"job\": \"data_scientist\" }\n",
    "for i in dict_1:\n",
    "    print(i)"
   ]
  },
  {
   "cell_type": "code",
   "execution_count": 56,
   "metadata": {},
   "outputs": [
    {
     "name": "stdout",
     "output_type": "stream",
     "text": [
      "dilek\n",
      "39\n",
      "data_scientist\n"
     ]
    }
   ],
   "source": [
    "dict_1 = {\"name\" : \"dilek\", \"age\": 39, \"job\": \"data_scientist\" }\n",
    "\n",
    "for i in dict_1.values():\n",
    "    \n",
    "    print(i)"
   ]
  },
  {
   "cell_type": "code",
   "execution_count": 59,
   "metadata": {},
   "outputs": [
    {
     "name": "stdout",
     "output_type": "stream",
     "text": [
      "('name', 'dilek')\n",
      "('age', 39)\n",
      "('job', 'data_scientist')\n"
     ]
    }
   ],
   "source": [
    "dict_1 = {\"name\" : \"dilek\", \"age\": 39, \"job\": \"data_scientist\" }\n",
    "\n",
    "for i in dict_1.items():\n",
    "     \n",
    "     print(i, )\n"
   ]
  },
  {
   "cell_type": "code",
   "execution_count": 60,
   "metadata": {},
   "outputs": [
    {
     "name": "stdout",
     "output_type": "stream",
     "text": [
      "name**dilek\n",
      "age**39\n",
      "job**data_scientist\n"
     ]
    }
   ],
   "source": [
    "dict_1 = {\"name\" : \"dilek\", \"age\": 39, \"job\": \"data_scientist\" }\n",
    "\n",
    "for i,J in dict_1.items(): #bunun hata vermemesi için iterable ifadenin eleamanlarının ikililer şeklinde bir iterable olması gerekir.\n",
    "    \n",
    "    print(i, J, sep=\"**\")"
   ]
  },
  {
   "cell_type": "code",
   "execution_count": 36,
   "metadata": {},
   "outputs": [
    {
     "name": "stdout",
     "output_type": "stream",
     "text": [
      "('name', 'dilek')\n",
      "namename\n",
      "dilekdilek\n",
      "('age', 39)\n",
      "ageage\n",
      "78\n",
      "('job', 'data_scientist')\n",
      "jobjob\n",
      "data_scientistdata_scientist\n"
     ]
    }
   ],
   "source": [
    "# kendin yaptın iç içe for döngüsü.\n",
    "dict_1 = {\"name\" : \"dilek\", \"age\": 39, \"job\": \"data_scientist\" }\n",
    "\n",
    "for i in dict_1.items():\n",
    "\n",
    "    print(i)\n",
    "\n",
    "    for j in i:\n",
    "\n",
    "        print(j*2 )"
   ]
  },
  {
   "cell_type": "code",
   "execution_count": 67,
   "metadata": {},
   "outputs": [
    {
     "name": "stdout",
     "output_type": "stream",
     "text": [
      "key:name      , value: dilek\n",
      "key:surname   , value: yılmaz\n",
      "key:age       , value: 39\n",
      "key:job       , value: data_scientist\n"
     ]
    }
   ],
   "source": [
    "dict_2 = {\"name\" : \"dilek\", \"surname\" : \"yılmaz\", \"age\": 39, \"job\": \"data_scientist\" }\n",
    "for i,j in dict_2.items():\n",
    "    print(f\"key:{i:<10}, value: {j>10}\") #{i:<10}: 10 boşlukluk karakter aç sola yasla,{j:>10}: 10 boşlukluk karakter aç sağa yasla "
   ]
  },
  {
   "cell_type": "code",
   "execution_count": 71,
   "metadata": {},
   "outputs": [
    {
     "name": "stdout",
     "output_type": "stream",
     "text": [
      "key:      name, value:      dilek     \n",
      "key:   surname, value:     yılmaz     \n",
      "key:       age, value:       39       \n",
      "key:       job, value: data_scientist \n"
     ]
    }
   ],
   "source": [
    "dict_2 = {\"name\" : \"dilek\", \"surname\" : \"yılmaz\", \"age\": 39, \"job\": \"data_scientist\" }\n",
    "for i,j in dict_2.items():\n",
    "    print(f\"key:{i:>10}, value: {j:^15}\") #{j:^15} anlamı 15 boşlukluk karakter aç ortala demek"
   ]
  },
  {
   "cell_type": "code",
   "execution_count": 72,
   "metadata": {},
   "outputs": [
    {
     "ename": "TypeError",
     "evalue": "'bool' object is not iterable",
     "output_type": "error",
     "traceback": [
      "\u001b[1;31m---------------------------------------------------------------------------\u001b[0m",
      "\u001b[1;31mTypeError\u001b[0m                                 Traceback (most recent call last)",
      "Cell \u001b[1;32mIn[72], line 1\u001b[0m\n\u001b[1;32m----> 1\u001b[0m \u001b[38;5;28;43;01mfor\u001b[39;49;00m\u001b[43m \u001b[49m\u001b[43mi\u001b[49m\u001b[43m \u001b[49m\u001b[38;5;129;43;01min\u001b[39;49;00m\u001b[43m \u001b[49m\u001b[38;5;28;43;01mTrue\u001b[39;49;00m\u001b[43m:\u001b[49m\n\u001b[0;32m      2\u001b[0m \u001b[43m    \u001b[49m\u001b[38;5;28;43mprint\u001b[39;49m\u001b[43m(\u001b[49m\u001b[43mi\u001b[49m\u001b[43m)\u001b[49m\n",
      "\u001b[1;31mTypeError\u001b[0m: 'bool' object is not iterable"
     ]
    }
   ],
   "source": [
    "for i in True: #iterable değil hata verir.\n",
    "    print(i)"
   ]
  },
  {
   "cell_type": "code",
   "execution_count": null,
   "metadata": {},
   "outputs": [],
   "source": [
    "#sonsuz döngüü çalıştırma\n",
    "list_5=[1,2,3]\n",
    "for i in list_5:\n",
    "    list_5.append(i) \n",
    "    print(list_5) #sonsuz döngüü çalıştırma"
   ]
  },
  {
   "cell_type": "code",
   "execution_count": null,
   "metadata": {},
   "outputs": [],
   "source": [
    "# çalıştırma sonsuz döngü\n",
    "liste = [\"sonsuz döngü\"]\n",
    "for i in liste:\n",
    "    print(i)\n",
    "    liste.append(5)"
   ]
  },
  {
   "cell_type": "code",
   "execution_count": 75,
   "metadata": {},
   "outputs": [
    {
     "data": {
      "text/plain": [
       "'      techpro       '"
      ]
     },
     "execution_count": 75,
     "metadata": {},
     "output_type": "execute_result"
    }
   ],
   "source": [
    "\"techpro\".center(20)"
   ]
  },
  {
   "cell_type": "code",
   "execution_count": 76,
   "metadata": {},
   "outputs": [
    {
     "data": {
      "text/plain": [
       "'             techpro'"
      ]
     },
     "execution_count": 76,
     "metadata": {},
     "output_type": "execute_result"
    }
   ],
   "source": [
    "\"techpro\".rjust(20)"
   ]
  },
  {
   "cell_type": "code",
   "execution_count": 77,
   "metadata": {},
   "outputs": [
    {
     "data": {
      "text/plain": [
       "'techpro             '"
      ]
     },
     "execution_count": 77,
     "metadata": {},
     "output_type": "execute_result"
    }
   ],
   "source": [
    "\"techpro\".ljust(20)"
   ]
  },
  {
   "cell_type": "code",
   "execution_count": null,
   "metadata": {},
   "outputs": [],
   "source": [
    "ceza=\"hoca bize ceza verdi\"\n",
    "\n",
    "for i in range(1,51): #range değeri iterable olduğu için for ile beraber kullanabildik. hani list(range(1,20)) de list iterable alıyordu ya demek ki range iterable :)\n",
    "    print(f\"{i: <3}- {ceza}\")"
   ]
  },
  {
   "cell_type": "code",
   "execution_count": 83,
   "metadata": {},
   "outputs": [],
   "source": [
    "#ödev - 1: Kullanıcıdan 1 (dahil) ve 9(dahil) arasında bir sayı isteyin. bu sayının çarpım tablosunu oluşturun.#güzel çıktı görünsün."
   ]
  },
  {
   "cell_type": "code",
   "execution_count": 17,
   "metadata": {},
   "outputs": [
    {
     "name": "stdout",
     "output_type": "stream",
     "text": [
      "seçmiş olduğunuz 6 sayısının çarpım tablosu aşağıdaki gibidir:\n",
      "  8   x   1   =   8  \n",
      "  8   x   2   =  16  \n",
      "  8   x   3   =  24  \n",
      "  8   x   4   =  32  \n",
      "  8   x   5   =  40  \n",
      "  8   x   6   =  48  \n",
      "  8   x   7   =  56  \n",
      "  8   x   8   =  64  \n",
      "  8   x   9   =  72  \n"
     ]
    }
   ],
   "source": [
    "sayi_al = int(input(\"1-9 arasında bir sayı giriniz:\"))\n",
    "liste_tablo=list(range(1,10)) #bu listeyi hiç kullanmayıp, for döngüsünde liste_tablo ifadesi yerine direkt range(1,10) yazabilirdik. \n",
    "print (f\"seçmiş olduğunuz {sayi_al2} sayısının çarpım tablosu aşağıdaki gibidir:\")\n",
    "for i in liste_tablo:\n",
    "    print(f\"{sayi_al :^5} x {i:^5} = {(sayi_al * i) :^5}\")"
   ]
  },
  {
   "cell_type": "code",
   "execution_count": null,
   "metadata": {},
   "outputs": [],
   "source": [
    "#diğer çözüm, hoca yaptı.\n",
    "number = int(input(\"bir sayı girin.1 ve 9 arasında\"))\n",
    "\n",
    "if 1 <= number <= 9: #rakam mı diye sorguladı\n",
    "\n",
    "    for i in range(1,11):\n",
    "\n",
    "        print(f\"{number} x {i:<2} = {number * i}\")\n",
    "\n",
    "else:\n",
    "    print(\"girdiğiniz sayı 1 ile 9 arasında değil. \")"
   ]
  },
  {
   "cell_type": "code",
   "execution_count": 16,
   "metadata": {},
   "outputs": [
    {
     "name": "stdout",
     "output_type": "stream",
     "text": [
      "seçmiş olduğunuz 6 sayısının çarpım tablosu aşağıdaki gibidir:\n",
      "  6   x   1   =   6  \n",
      "  6   x   2   =  12  \n",
      "  6   x   3   =  18  \n",
      "  6   x   4   =  24  \n",
      "  6   x   5   =  30  \n",
      "  6   x   6   =  36  \n",
      "  6   x   7   =  42  \n",
      "  6   x   8   =  48  \n",
      "  6   x   9   =  54  \n"
     ]
    }
   ],
   "source": [
    "#diğer çözüm, sen yaptın.\n",
    "sayi_al2 = int(input(\"1-9 arasında bir sayı giriniz:\"))\n",
    "liste_tablo2 = list(range(1,10))\n",
    "while not (0 < sayi_al2 <= 9):\n",
    "    sayi_al2 = input(\"lütfen [1,9] aralığında tekrar değer giriniz\")\n",
    "print (f\"seçmiş olduğunuz {sayi_al2} sayısının çarpım tablosu aşağıdaki gibidir:\")\n",
    "for i in liste_tablo2:\n",
    "    print(f\"{sayi_al2 :^5} x {i:^5} = {(sayi_al2 * i) :^5}\")"
   ]
  },
  {
   "cell_type": "code",
   "execution_count": null,
   "metadata": {},
   "outputs": [],
   "source": [
    "#ödev-2: Kullanıcıdan 1 (dahil) ve 9(dahil) arasında bir sayı isteyin.bu sayının çarpım tablosunu oluşturun.Kullanıcı bu aralıktan farklı bir değer girdiyse tekrar doğru girmesini isteyin."
   ]
  },
  {
   "cell_type": "code",
   "execution_count": null,
   "metadata": {},
   "outputs": [],
   "source": [
    "#diğer çözüm, hoca yaptı.\n",
    "while True:\n",
    "\n",
    "    number = int(input(\"bir sayı girin.1 ve 9 arasında\"))\n",
    "\n",
    "    if 1 <= number <= 9:\n",
    "\n",
    "        for i in range(1,11):\n",
    "\n",
    "            print(f\"{number} x {i:<2} = {number * i}\")\n",
    "\n",
    "        break\n",
    "\n",
    "    else:\n",
    "        print(\"girdiğiniz sayı 1 ile 9 arasında değil. Tekrar sayı girin.\")"
   ]
  },
  {
   "cell_type": "code",
   "execution_count": null,
   "metadata": {},
   "outputs": [],
   "source": [
    "#bir diğer çözüm\n",
    "while True:\n",
    "\n",
    "    number = int(input(\"bir sayı girin.1 ve 9 arasında\"))\n",
    "\n",
    "    if 1 <= number <= 9:\n",
    "\n",
    "        break\n",
    "\n",
    "    else:\n",
    "        print(\"girdiğiniz sayı 1 ile 9 arasında değil. Tekrar sayı girin.\")\n",
    "\n",
    "for i in range(1,11):\n",
    "\n",
    "    print(f\"{number} x {i:<2} = {number * i}\")"
   ]
  },
  {
   "cell_type": "code",
   "execution_count": null,
   "metadata": {},
   "outputs": [],
   "source": [
    "#ödev 2 çözüm 3 deneme hakkı = 3 tam doğru değil, sonuncuda tekrar sayı girin diyor ama input almıyor\n",
    "\n",
    "sayaç = 0\n",
    "\n",
    "while True:\n",
    "\n",
    "    number = int(input(\"bir sayı girin.1 ve 9 arasında\"))\n",
    "\n",
    "    sayaç += 1\n",
    "\n",
    "    if 1 <= number <= 9:\n",
    "\n",
    "        for i in [1,2,3,4,5,6,7,8,9,10]:\n",
    "\n",
    "            print(f\"{number} x {i:<2} = {number * i}\")\n",
    "\n",
    "        break\n",
    "\n",
    "    else:\n",
    "        print(\"girdiğiniz sayı 1 ile 9 arasında değil. Tekrar sayı girin.\")\n",
    "\n",
    "    if sayaç == 3:\n",
    "        break"
   ]
  },
  {
   "cell_type": "code",
   "execution_count": 40,
   "metadata": {},
   "outputs": [
    {
     "name": "stdout",
     "output_type": "stream",
     "text": [
      "girdiğiniz sayı 1 ile 9 arasında değil. Tekrar sayı girin.\n",
      "girdiğiniz sayı 1 ile 9 arasında değil. Tekrar sayı girin.\n",
      "girdiğiniz sayı 1 ile 9 arasında değil, sayı girme hakkınız bitti.\n"
     ]
    }
   ],
   "source": [
    "#ödev 2 çözüm 3 deneme hakkı = 3 tam doğru değil, sonuncuda tekrar sayı girin deme problemini çözdün.\n",
    "\n",
    "sayaç = 0\n",
    "\n",
    "while True:\n",
    "\n",
    "    number = int(input(\"bir sayı girin.1 ve 9 arasında\"))\n",
    "\n",
    "    sayaç += 1\n",
    "\n",
    "    if 1 <= number <= 9:\n",
    "\n",
    "        for i in [1,2,3,4,5,6,7,8,9,10]:\n",
    "\n",
    "            print(f\"{number} x {i:<2} = {number * i}\")\n",
    "\n",
    "        break\n",
    "\n",
    "    else:\n",
    "        if sayaç != 3: # tekrar sayı girin deme problemini çözdün.\n",
    "            print(\"girdiğiniz sayı 1 ile 9 arasında değil. Tekrar sayı girin.\")\n",
    "        else:\n",
    "            print(\"girdiğiniz sayı 1 ile 9 arasında değil, sayı girme hakkınız bitti.\")\n",
    "\n",
    "    if sayaç == 3:\n",
    "        break"
   ]
  },
  {
   "cell_type": "markdown",
   "metadata": {},
   "source": [
    "# 16.02.2024 Tarihli Ders"
   ]
  },
  {
   "cell_type": "markdown",
   "metadata": {},
   "source": [
    "1 den 50(50 dahil) sayıların toplamını bulan kodu yazın. (n * (n + 1)) / 2"
   ]
  },
  {
   "cell_type": "code",
   "execution_count": 24,
   "metadata": {},
   "outputs": [
    {
     "name": "stdout",
     "output_type": "stream",
     "text": [
      "650\n"
     ]
    }
   ],
   "source": [
    "toplam=0\n",
    "for i in range(1,51):\n",
    "    toplam+=i\n",
    "print(toplam)"
   ]
  },
  {
   "cell_type": "code",
   "execution_count": 21,
   "metadata": {},
   "outputs": [
    {
     "data": {
      "text/plain": [
       "1275"
      ]
     },
     "execution_count": 21,
     "metadata": {},
     "output_type": "execute_result"
    }
   ],
   "source": [
    "sum(range(1,51)) #aldığı sayıları toplar parantez içi iterable alır."
   ]
  },
  {
   "cell_type": "code",
   "execution_count": 22,
   "metadata": {},
   "outputs": [
    {
     "data": {
      "text/plain": [
       "15"
      ]
     },
     "execution_count": 22,
     "metadata": {},
     "output_type": "execute_result"
    }
   ],
   "source": [
    "sum([1, 2, 3, 4, 5])"
   ]
  },
  {
   "cell_type": "code",
   "execution_count": 23,
   "metadata": {},
   "outputs": [
    {
     "data": {
      "text/plain": [
       "15"
      ]
     },
     "execution_count": 23,
     "metadata": {},
     "output_type": "execute_result"
    }
   ],
   "source": [
    "sum((1, 2, 3, 4, 5))"
   ]
  },
  {
   "cell_type": "code",
   "execution_count": 46,
   "metadata": {},
   "outputs": [
    {
     "data": {
      "text/plain": [
       "15"
      ]
     },
     "execution_count": 46,
     "metadata": {},
     "output_type": "execute_result"
    }
   ],
   "source": [
    "sum({1, 2, 3, 4, 5}) #default toplam değeri 0'dır o yüzden içeriğinde string olan ifade ya da string almaz içine."
   ]
  },
  {
   "cell_type": "code",
   "execution_count": 45,
   "metadata": {},
   "outputs": [
    {
     "data": {
      "text/plain": [
       "65"
      ]
     },
     "execution_count": 45,
     "metadata": {},
     "output_type": "execute_result"
    }
   ],
   "source": [
    "sum({True, 2, 3, 4, 5}, 50) # iterable elemandan sonra virgül koyup sayı yazdığımızda default 0 değerini değiştirmiş oluruz."
   ]
  },
  {
   "cell_type": "markdown",
   "metadata": {},
   "source": [
    "1 den 50(50 dahil) çift sayıların toplamını bulan kodu yazın."
   ]
  },
  {
   "cell_type": "code",
   "execution_count": 48,
   "metadata": {},
   "outputs": [
    {
     "name": "stdout",
     "output_type": "stream",
     "text": [
      "650\n"
     ]
    }
   ],
   "source": [
    "#yöntem-3\n",
    "toplam=0\n",
    "for i in range(2, 51, 2):\n",
    "    toplam+=i\n",
    "print(toplam)"
   ]
  },
  {
   "cell_type": "code",
   "execution_count": 28,
   "metadata": {},
   "outputs": [
    {
     "name": "stdout",
     "output_type": "stream",
     "text": [
      "650\n"
     ]
    }
   ],
   "source": [
    "#yöntem-2\n",
    "toplam2 = 0\n",
    "for i in range(1,51):\n",
    "    if i % 2 == 0:\n",
    "        toplam2+=i\n",
    "print(toplam2)"
   ]
  },
  {
   "cell_type": "code",
   "execution_count": 49,
   "metadata": {},
   "outputs": [
    {
     "data": {
      "text/plain": [
       "650"
      ]
     },
     "execution_count": 49,
     "metadata": {},
     "output_type": "execute_result"
    }
   ],
   "source": [
    "# yöntem -3\n",
    "sum((range(2,51,2)))"
   ]
  },
  {
   "cell_type": "markdown",
   "metadata": {},
   "source": [
    "## break, continue"
   ]
  },
  {
   "cell_type": "code",
   "execution_count": 30,
   "metadata": {},
   "outputs": [
    {
     "name": "stdout",
     "output_type": "stream",
     "text": [
      "1\n",
      "4\n"
     ]
    }
   ],
   "source": [
    "#3 ve 3'ün katına denk gelindiğinde kod bitsin. diğer durumlarda sayıların karesini yazdırsın.\n",
    "liste_1 = [1,2,3,4,5]\n",
    "for i in liste_1:\n",
    "    if i % 3 == 0:\n",
    "        break\n",
    "    else:\n",
    "         print(i ** 2)"
   ]
  },
  {
   "cell_type": "code",
   "execution_count": null,
   "metadata": {},
   "outputs": [],
   "source": [
    "#3 ve 3'ün katına denk gelindiğind kod devam etsin ancak işlem yapmasın. diğer durumlarda sayıların karesini yazdırsın.\n",
    "liste_1 = [1,2,3,4,5]\n",
    "for i in liste_1:\n",
    "    if i % 3 == 0:\n",
    "        continue\n",
    "    else:\n",
    "         print(i ** 2)"
   ]
  },
  {
   "cell_type": "code",
   "execution_count": 32,
   "metadata": {},
   "outputs": [
    {
     "name": "stdout",
     "output_type": "stream",
     "text": [
      "650\n"
     ]
    }
   ],
   "source": [
    "#çift sayıların toplamı 1 ve 50 arası\n",
    "#yöntem-4\n",
    "toplam=0\n",
    "for i in range (1,51):\n",
    "    if i % 2 == 1:\n",
    "        continue\n",
    "    else : \n",
    "        toplam+=i\n",
    "print(toplam)\n"
   ]
  },
  {
   "cell_type": "markdown",
   "metadata": {},
   "source": [
    "## zip()"
   ]
  },
  {
   "cell_type": "code",
   "execution_count": 51,
   "metadata": {},
   "outputs": [],
   "source": [
    "a = [ \"apple\", \"orange\", \"lemon\" ]\n",
    "b=[1,2,3]"
   ]
  },
  {
   "cell_type": "code",
   "execution_count": 35,
   "metadata": {},
   "outputs": [
    {
     "data": {
      "text/plain": [
       "<zip at 0x2641b0217c0>"
      ]
     },
     "execution_count": 35,
     "metadata": {},
     "output_type": "execute_result"
    }
   ],
   "source": [
    "zip(a,b) #ikilileri tuple şeklinde üretiyor. göstermesi için list, tuple, dict gibi bir yöntem kullanmak gerekiyor."
   ]
  },
  {
   "cell_type": "code",
   "execution_count": 39,
   "metadata": {},
   "outputs": [
    {
     "data": {
      "text/plain": [
       "[('apple', 1), ('orange', 2), ('lemon', 3)]"
      ]
     },
     "execution_count": 39,
     "metadata": {},
     "output_type": "execute_result"
    }
   ],
   "source": [
    "list(zip(a,b))"
   ]
  },
  {
   "cell_type": "code",
   "execution_count": 52,
   "metadata": {},
   "outputs": [
    {
     "data": {
      "text/plain": [
       "{('apple', 1), ('lemon', 3), ('orange', 2)}"
      ]
     },
     "execution_count": 52,
     "metadata": {},
     "output_type": "execute_result"
    }
   ],
   "source": [
    "set(zip(a,b))"
   ]
  },
  {
   "cell_type": "code",
   "execution_count": 53,
   "metadata": {},
   "outputs": [
    {
     "data": {
      "text/plain": [
       "{'apple': 1, 'orange': 2, 'lemon': 3}"
      ]
     },
     "execution_count": 53,
     "metadata": {},
     "output_type": "execute_result"
    }
   ],
   "source": [
    "dict(zip(a,b))"
   ]
  },
  {
   "cell_type": "code",
   "execution_count": 43,
   "metadata": {},
   "outputs": [
    {
     "data": {
      "text/plain": [
       "[('T', 'C', 'A'), ('e', 'i', 'y'), ('c', 'h', 'ş'), ('h', 'a', 'e')]"
      ]
     },
     "execution_count": 43,
     "metadata": {},
     "output_type": "execute_result"
    }
   ],
   "source": [
    "x = \"Techpro\"\n",
    "y = \"Cihan\"\n",
    "z = \"Ayşe\"\n",
    "list(zip(x,y,z)) #en az eleamnlı stringe göre bir eşleme yapıyor. diğerlerinde fazla olanları görmüyor."
   ]
  },
  {
   "cell_type": "code",
   "execution_count": 54,
   "metadata": {},
   "outputs": [
    {
     "data": {
      "text/plain": [
       "{'apple': 3, 'orange': 2}"
      ]
     },
     "execution_count": 54,
     "metadata": {},
     "output_type": "execute_result"
    }
   ],
   "source": [
    "meyveler= [\"apple\", \"orange\", \"apple\"] #eğer dict yaparken keyler aynı denk  gelseydi, keyi bir kere yazacak, aynı keye denk gelen son değeri, son indisi alacak\n",
    "adet= [1, 2, 3]\n",
    "dict(zip(meyveler, adet))"
   ]
  },
  {
   "cell_type": "code",
   "execution_count": 50,
   "metadata": {},
   "outputs": [
    {
     "data": {
      "text/plain": [
       "[('irem', 25, 'data_scientist'),\n",
       " ('betül', 26, 'python_developer'),\n",
       " ('tülay', 27, 'data_analyst')]"
      ]
     },
     "execution_count": 50,
     "metadata": {},
     "output_type": "execute_result"
    }
   ],
   "source": [
    "name = [\"irem\", \"betül\", \"tülay\"]\n",
    "age = [ 25, 26,27]\n",
    "job = [\"data_scientist\", \"python_developer\", \"data_analyst\"]\n",
    "list(zip(name,age,job))"
   ]
  },
  {
   "cell_type": "code",
   "execution_count": 52,
   "metadata": {},
   "outputs": [
    {
     "name": "stdout",
     "output_type": "stream",
     "text": [
      "('irem', 25, 'data_scientist')\n",
      "('betül', 26, 'python_developer')\n",
      "('tülay', 27, 'data_analyst')\n"
     ]
    }
   ],
   "source": [
    "for item in zip(name,age, job):\n",
    "    print(item)"
   ]
  },
  {
   "cell_type": "code",
   "execution_count": 54,
   "metadata": {},
   "outputs": [
    {
     "name": "stdout",
     "output_type": "stream",
     "text": [
      "name: irem  , age: 25    , job: data_scientist\n",
      "name: betül , age: 26    , job: python_developer\n",
      "name: tülay , age: 27    , job: data_analyst\n"
     ]
    }
   ],
   "source": [
    "for i, j, k in zip (name, age, job):\n",
    "    print(f\"name: {i: <6}, age: {j: <6}, job: {k: <6}\")"
   ]
  },
  {
   "cell_type": "code",
   "execution_count": 57,
   "metadata": {},
   "outputs": [
    {
     "ename": "ValueError",
     "evalue": "too many values to unpack (expected 2)",
     "output_type": "error",
     "traceback": [
      "\u001b[1;31m---------------------------------------------------------------------------\u001b[0m",
      "\u001b[1;31mValueError\u001b[0m                                Traceback (most recent call last)",
      "Cell \u001b[1;32mIn[57], line 1\u001b[0m\n\u001b[1;32m----> 1\u001b[0m \u001b[38;5;28;01mfor\u001b[39;00m i, j  \u001b[38;5;129;01min\u001b[39;00m \u001b[38;5;28mzip\u001b[39m (name, age, job):\n\u001b[0;32m      2\u001b[0m     \u001b[38;5;28mprint\u001b[39m(\u001b[38;5;124mf\u001b[39m\u001b[38;5;124m\"\u001b[39m\u001b[38;5;124mname: \u001b[39m\u001b[38;5;132;01m{\u001b[39;00mi\u001b[38;5;132;01m:\u001b[39;00m\u001b[38;5;124m <6\u001b[39m\u001b[38;5;132;01m}\u001b[39;00m\u001b[38;5;124m, age: \u001b[39m\u001b[38;5;132;01m{\u001b[39;00mj\u001b[38;5;132;01m:\u001b[39;00m\u001b[38;5;124m <6\u001b[39m\u001b[38;5;132;01m}\u001b[39;00m\u001b[38;5;124m\"\u001b[39m)\n",
      "\u001b[1;31mValueError\u001b[0m: too many values to unpack (expected 2)"
     ]
    }
   ],
   "source": [
    "for i, j  in zip (name, age, job):\n",
    "    print(f\"name: {i: <6}, age: {j: <6}\")"
   ]
  },
  {
   "cell_type": "code",
   "execution_count": 56,
   "metadata": {},
   "outputs": [
    {
     "name": "stdout",
     "output_type": "stream",
     "text": [
      "name: irem  , age: 25    \n",
      "name: betül , age: 26    \n",
      "name: tülay , age: 27    \n"
     ]
    }
   ],
   "source": [
    "for i, j, k in zip (name, age, job):\n",
    "    print(f\"name: {i: <6}, age: {j: <6}\") # bir itemde yer alan 3 değeri 3 değişkene atayıp yalnızca ikisini yazdırmak hata  vermedi."
   ]
  },
  {
   "cell_type": "code",
   "execution_count": 55,
   "metadata": {},
   "outputs": [
    {
     "name": "stdout",
     "output_type": "stream",
     "text": [
      "değişkene ihtiyacım yok\n",
      "değişkene ihtiyacım yok\n",
      "değişkene ihtiyacım yok\n",
      "değişkene ihtiyacım yok\n",
      "değişkene ihtiyacım yok\n",
      "değişkene ihtiyacım yok\n",
      "değişkene ihtiyacım yok\n",
      "değişkene ihtiyacım yok\n",
      "değişkene ihtiyacım yok\n",
      "değişkene ihtiyacım yok\n"
     ]
    }
   ],
   "source": [
    "for i in range(1,11):\n",
    "    print(\"değişkene ihtiyacım yok\")"
   ]
  },
  {
   "cell_type": "markdown",
   "metadata": {},
   "source": [
    "### enumerate"
   ]
  },
  {
   "cell_type": "code",
   "execution_count": 59,
   "metadata": {},
   "outputs": [],
   "source": [
    "#numaralandırma yapmak için kullanılan fonksiyondur."
   ]
  },
  {
   "cell_type": "code",
   "execution_count": 60,
   "metadata": {},
   "outputs": [
    {
     "data": {
      "text/plain": [
       "['irem', 'betül', 'tülay']"
      ]
     },
     "execution_count": 60,
     "metadata": {},
     "output_type": "execute_result"
    }
   ],
   "source": [
    "name"
   ]
  },
  {
   "cell_type": "code",
   "execution_count": 61,
   "metadata": {},
   "outputs": [
    {
     "data": {
      "text/plain": [
       "<enumerate at 0x2641afd6de0>"
      ]
     },
     "execution_count": 61,
     "metadata": {},
     "output_type": "execute_result"
    }
   ],
   "source": [
    "enumerate(name) #ürettiği şey yine bir tuple içinde ikililer.numaralandırma çiftini tuple içinde sunuyor. default başlangıç 0."
   ]
  },
  {
   "cell_type": "code",
   "execution_count": 62,
   "metadata": {},
   "outputs": [
    {
     "data": {
      "text/plain": [
       "[(0, 'irem'), (1, 'betül'), (2, 'tülay')]"
      ]
     },
     "execution_count": 62,
     "metadata": {},
     "output_type": "execute_result"
    }
   ],
   "source": [
    "list(enumerate(name))"
   ]
  },
  {
   "cell_type": "code",
   "execution_count": 66,
   "metadata": {},
   "outputs": [
    {
     "data": {
      "text/plain": [
       "[(100, 'irem'), (101, 'betül'), (102, 'tülay')]"
      ]
     },
     "execution_count": 66,
     "metadata": {},
     "output_type": "execute_result"
    }
   ],
   "source": [
    "list(enumerate(name, 100)) # 100 den başlasın ikişer üçer yazsın gibi bir mantık yok."
   ]
  },
  {
   "cell_type": "code",
   "execution_count": 1,
   "metadata": {},
   "outputs": [
    {
     "data": {
      "text/plain": [
       "{8, 12, 14, 23, 25, 31, 32, 38, 40, 43, 49}"
      ]
     },
     "execution_count": 1,
     "metadata": {},
     "output_type": "execute_result"
    }
   ],
   "source": [
    "#kayıp sayıları bul yöntem_1 kendi yaptığın.\n",
    "number_list = [48, 10, 11, 21, 36, 5, 6, 52, 28, 29,\n",
    "       53, 54, 45, 19, 20, 47, 55, 39, 41, 7,\n",
    "       9, 17, 26, 27, 42, 22, 37, 51, 46, 18,\n",
    "       44, 30, 34, 13, 15, 35, 33, 16, 50, 24] \n",
    "\n",
    "number_set = set(number_list)\n",
    "full_set = set(range (min(number_list), max(number_list)) )\n",
    "kayıp_liste=full_set.difference(number_set) #full_set - number_set\n",
    "kayıp_liste\n"
   ]
  },
  {
   "cell_type": "code",
   "execution_count": 85,
   "metadata": {},
   "outputs": [
    {
     "name": "stdout",
     "output_type": "stream",
     "text": [
      "[8, 12, 14, 23, 25, 31, 32, 38, 40, 43, 49]\n"
     ]
    }
   ],
   "source": [
    " #kayıp sayıları bul yöntem_2.\n",
    "kayıp_sayılar = []\n",
    "for i in range (min(number_list), max(number_list)):\n",
    "    if i not in number_list:\n",
    "        kayıp_sayılar.append(i) \n",
    "print(kayıp_sayılar)"
   ]
  },
  {
   "cell_type": "code",
   "execution_count": 86,
   "metadata": {},
   "outputs": [
    {
     "name": "stdout",
     "output_type": "stream",
     "text": [
      "[8, 12, 14, 23, 25, 31, 32, 38, 40, 43, 49]\n"
     ]
    }
   ],
   "source": [
    " #kayıp sayıları bul yöntem_2.\n",
    "kayıp_sayılar = []\n",
    "for i in range (min(number_list), max(number_list)):\n",
    "    if i in number_list:\n",
    "        continue\n",
    "        \n",
    "    kayıp_sayılar.append(i) \n",
    "print(kayıp_sayılar)"
   ]
  },
  {
   "cell_type": "code",
   "execution_count": null,
   "metadata": {},
   "outputs": [],
   "source": [
    "#yukardaki soruyu sort ile yapmayı dene.belki bir gün :)"
   ]
  },
  {
   "cell_type": "markdown",
   "metadata": {},
   "source": [
    "# 17.02.2024 tarihli ders"
   ]
  },
  {
   "cell_type": "markdown",
   "metadata": {},
   "source": [
    "Bir markete gittiniz. Markette her ürünün bir kod numarası var. 1 : Elma 2 : Portakal 3 : Çilek 4 : Yumurta 5 : Havuç 6 : Armut ... vs. şeklinde. Kullanıcıya almak istediği ürünü sorunuz ve kod numarası ile seçim yaptırınız. Çıkış için \"q\" opsiyonunu sununuz. Kullanıcının her ürün seçimi sonrası \" .... elma sepete eklendi\" gibi bir dönüt veriniz. Kullanıcı ürün almaya devam ettikçe ürünleri bir listede toplayınız, almaktan vazgeçtiği durumda teşekkür edip, aldığı toplam ürünleri çıktı veren bir kod yazınız. Çıktı: Teşekkür Ederiz... Sepetinizde Bulunan Ürünler: elma, armut, yumurta ... vs."
   ]
  },
  {
   "cell_type": "code",
   "execution_count": null,
   "metadata": {},
   "outputs": [],
   "source": [
    "#kendi çözümüm\n",
    "stok = [\"Elma\", \"Portakal\", \"Çilek\", \"Yumurta\", \"Havuç\", \"Armut\"]\n",
    "stoktaki_urunler = dict(enumerate(stok))\n",
    "\n",
    "print (f\"stoğumuzda bulunan ürünler aşağıdaki gibidir:\" )\n",
    "\n",
    "for i,j in stoktaki_urunler.items():\n",
    "   \n",
    "    print (f\"{i} : {j : <8}\")\n",
    "\n",
    "sepet = []\n",
    "\n",
    "while True:\n",
    "\n",
    "    musteri_secim = input(\"lütfen sepete ürün eklemek için stok kodunu giriniz. siparişi sonlandırmak istiyorsanız q tuşuna basınız:\")\n",
    "\n",
    "    if (musteri_secim != \"q\") and (int(musteri_secim) in stoktaki_urunler.keys()):\n",
    "\n",
    "        sepet.append(stoktaki_urunler[int(musteri_secim)])\n",
    "        print(f\"sepetinize {stoktaki_urunler[int(musteri_secim)]} eklendi\")\n",
    "    \n",
    "    elif musteri_secim == \"q\":\n",
    "\n",
    "        print(\"firmamızı tercih ettiğiniz için teşekkür eder iyi günler dileriz.\")\n",
    "        break\n",
    "\n",
    "    else:\n",
    "        print(\"yanlış ya da hatalı giriş yaptınız. tekrar deneyiniz:\")\n",
    "print(f\"siparişinizdeki  ürünler: {sepet}\")"
   ]
  },
  {
   "cell_type": "code",
   "execution_count": null,
   "metadata": {},
   "outputs": [],
   "source": [
    "# hocanın çözümü\n",
    "ürünler = {1 : \"Elma\", 2 : \"Portakal\", 3 : \"Çilek\", 4 : \"Yumurta\", 5 : \"Havuç\", 6 : \"Armut\"}\n",
    "\n",
    "print(\"Marketimize Hoş geldiniz\")\n",
    "\n",
    "print(\"\"\"Ürünlerimiz:\n",
    "1 : \"Elma\",\n",
    "2 : \"Portakal\",\n",
    "3 : \"Çilek\", \n",
    "4 : \"Yumurta\",\n",
    "5 : \"Havuç\",\n",
    "6 : \"Armut\"     \n",
    "      \"\"\")\n",
    "\n",
    "sepet = []\n",
    "\n",
    "while True:\n",
    "\n",
    "    x = input(\"Almak istediğiniz ürünün kodunu giriniz. Ürün eklemeyi bitirdiğinizde q tuşuna basınız.\").lower()\n",
    "\n",
    "    if x != \"q\":\n",
    "        sepet.append(ürünler[int(x)])\n",
    "        print(f\"Sepete {ürünler[int(x)]} eklendi\")\n",
    "\n",
    "    elif x == \"q\":\n",
    "        print(\"Bizi tercih ettiğiniz için teşekkürler\")\n",
    "        print(f\"Almış olduğunuz ürünler: {sepet}\")\n",
    "        break"
   ]
  },
  {
   "cell_type": "markdown",
   "metadata": {},
   "source": [
    "## list comprehension"
   ]
  },
  {
   "cell_type": "code",
   "execution_count": 1,
   "metadata": {},
   "outputs": [
    {
     "name": "stdout",
     "output_type": "stream",
     "text": [
      "[1, 4, 9, 16, 25]\n"
     ]
    }
   ],
   "source": [
    "liste_1 = [1,2,3,4,5]\n",
    "empty_list = []\n",
    "\n",
    "for i in liste_1:\n",
    "    empty_list.append(i**2)\n",
    "    \n",
    "print(empty_list)"
   ]
  },
  {
   "cell_type": "code",
   "execution_count": 2,
   "metadata": {},
   "outputs": [
    {
     "data": {
      "text/plain": [
       "[1, 4, 9, 16, 25]"
      ]
     },
     "execution_count": 2,
     "metadata": {},
     "output_type": "execute_result"
    }
   ],
   "source": [
    "#list comprehension ile yapma, sadece for döngüsüyle kullanılırmış yani while ile kullanılmaz (?). ama her yazdığın for döngüsünü de çeviremezsin ama.\n",
    "[i ** 2 for i in liste_1]  #yukardaki işlemi list comprehensionla yapıldı. list comprehension sayesind eotomatik liste oluşturuldu."
   ]
  },
  {
   "cell_type": "code",
   "execution_count": 3,
   "metadata": {},
   "outputs": [
    {
     "data": {
      "text/plain": [
       "[1, 4, 9, 16, 25]"
      ]
     },
     "execution_count": 3,
     "metadata": {},
     "output_type": "execute_result"
    }
   ],
   "source": [
    "liste_2 = [i ** 2 for i in liste_1] #işlemi list comprehensionla yaptım daha sonra listeyi çağırabilmek için değişkene atadım.\n",
    "liste_2"
   ]
  },
  {
   "cell_type": "code",
   "execution_count": 4,
   "metadata": {},
   "outputs": [
    {
     "data": {
      "text/plain": [
       "['renault!', 'fiat*', 'ford?']"
      ]
     },
     "execution_count": 4,
     "metadata": {},
     "output_type": "execute_result"
    }
   ],
   "source": [
    "liste_2 = [\"renault!\", \"fiat*\", \"ford?\"]\n",
    "liste_2"
   ]
  },
  {
   "cell_type": "code",
   "execution_count": 5,
   "metadata": {},
   "outputs": [
    {
     "name": "stdout",
     "output_type": "stream",
     "text": [
      "renault\n",
      "fiat\n",
      "ford\n"
     ]
    }
   ],
   "source": [
    "for i in liste_2:\n",
    "   print( i.replace(\"!\", \"\").replace(\"*\", \"\").replace(\"?\", \"\")) #replace iterable içinde replace edilmek istenen şey yoksa hata vermiyormuş demek ki."
   ]
  },
  {
   "cell_type": "code",
   "execution_count": 6,
   "metadata": {},
   "outputs": [
    {
     "data": {
      "text/plain": [
       "['renault', 'fiat', 'ford']"
      ]
     },
     "execution_count": 6,
     "metadata": {},
     "output_type": "execute_result"
    }
   ],
   "source": [
    "[i.strip(\"!*?\") for i in liste_2] # for döngüsünü tek başına kullanıyorsak işlem kısmını for'un sol tarafına yapmamız lazım"
   ]
  },
  {
   "cell_type": "code",
   "execution_count": 31,
   "metadata": {},
   "outputs": [
    {
     "name": "stdout",
     "output_type": "stream",
     "text": [
      "[1, 15, 5, 89, 45, 71, 45, 95, 61]\n"
     ]
    }
   ],
   "source": [
    "sayılar_listesi = [1,15,2,36,5,89,45,62,52,71,30,56,45,95,61,48] #sayılar_lisesi'ndeki tek sayıları bir listeye çıkarma normal  yöntem.\n",
    "\n",
    "tek_sayılar = [] \n",
    "\n",
    "for i in sayılar_listesi:\n",
    "    if i % 2:\n",
    "        tek_sayılar.append(i)\n",
    "print(tek_sayılar)"
   ]
  },
  {
   "cell_type": "markdown",
   "metadata": {},
   "source": [
    "### for + if"
   ]
  },
  {
   "cell_type": "code",
   "execution_count": 34,
   "metadata": {},
   "outputs": [
    {
     "data": {
      "text/plain": [
       "[1, 15, 2, 36, 5, 89, 45, 62, 52, 71, 30, 56, 45, 95, 61, 48]"
      ]
     },
     "execution_count": 34,
     "metadata": {},
     "output_type": "execute_result"
    }
   ],
   "source": [
    "sayılar_listesi"
   ]
  },
  {
   "cell_type": "code",
   "execution_count": 35,
   "metadata": {},
   "outputs": [
    {
     "data": {
      "text/plain": [
       "[1, 15, 5, 89, 45, 71, 45, 95, 61]"
      ]
     },
     "execution_count": 35,
     "metadata": {},
     "output_type": "execute_result"
    }
   ],
   "source": [
    "#sayılar_listesi'ndeki tek sayıları bir listeye çıkarma list comprehension\n",
    "[i for i in sayılar_listesi if i % 2 == 1] #for + if kullanılırken if yapısı for un sağına yapılacak işlem for'un soluna yazılmalıdır."
   ]
  },
  {
   "cell_type": "code",
   "execution_count": 36,
   "metadata": {},
   "outputs": [
    {
     "data": {
      "text/plain": [
       "[2, 36, 62, 52, 30, 56, 48]"
      ]
     },
     "execution_count": 36,
     "metadata": {},
     "output_type": "execute_result"
    }
   ],
   "source": [
    "#sayılar_lisesi'ndeki çift sayıları bir listeye çıkarma list comprehension\n",
    "[i for i in sayılar_listesi if i % 2 == 0] #for + if kullanılırken if yapısı for un sağına yapılacak işlem for'un soluna yazılmalıdır."
   ]
  },
  {
   "cell_type": "code",
   "execution_count": 10,
   "metadata": {},
   "outputs": [],
   "source": [
    "a=[i for i in sayılar_listesi if i % 2 == 0].sort() #sort() none ürettiği için a'ya hiçbir şey atanmadı. bunun için önce aşağıdaki gibi atama yapıp sonra sort yapman lazım.\n",
    "a"
   ]
  },
  {
   "cell_type": "code",
   "execution_count": 11,
   "metadata": {},
   "outputs": [
    {
     "data": {
      "text/plain": [
       "[2, 30, 36, 48, 52, 56, 62]"
      ]
     },
     "execution_count": 11,
     "metadata": {},
     "output_type": "execute_result"
    }
   ],
   "source": [
    "a=[i for i in sayılar_listesi if i % 2 == 0]\n",
    "a.sort()\n",
    "a"
   ]
  },
  {
   "cell_type": "markdown",
   "metadata": {},
   "source": [
    "## for+if+else"
   ]
  },
  {
   "cell_type": "code",
   "execution_count": 14,
   "metadata": {},
   "outputs": [
    {
     "name": "stdout",
     "output_type": "stream",
     "text": [
      "[1, 225, 2, 36, 25, 7921, 2025, 62, 52, 5041, 30, 56, 2025, 9025, 3721, 48]\n"
     ]
    }
   ],
   "source": [
    "sayılar_listesi = [1,15,2,36,5,89,45,62,52,71,30,56,45,95,61,48]\n",
    "#sayı çiftse aynen yazdır tekse karesini al yazdır.\n",
    "sonuç=[]\n",
    "for i in sayılar_listesi:\n",
    "    if i % 2==0:\n",
    "        sonuç.append(i)\n",
    "    else:\n",
    "        sonuç.append(i ** 2)\n",
    "print(sonuç)"
   ]
  },
  {
   "cell_type": "code",
   "execution_count": 15,
   "metadata": {},
   "outputs": [
    {
     "data": {
      "text/plain": [
       "[1, 225, 2, 36, 25, 7921, 2025, 62, 52, 5041, 30, 56, 2025, 9025, 3721, 48]"
      ]
     },
     "execution_count": 15,
     "metadata": {},
     "output_type": "execute_result"
    }
   ],
   "source": [
    "[ i if i % 2==0 else i ** 2 for i in sayılar_listesi ] #for if+else ile kullanılacaksa for en sağa yazılır diğer işlemler soldadır. if'in işlemi if'in solunda, else in işlemi else'in sağında yazılır."
   ]
  },
  {
   "cell_type": "markdown",
   "metadata": {},
   "source": [
    "### iç içe for döngüsü"
   ]
  },
  {
   "cell_type": "code",
   "execution_count": 12,
   "metadata": {},
   "outputs": [
    {
     "name": "stdout",
     "output_type": "stream",
     "text": [
      "4\n",
      "5\n",
      "6\n",
      "8\n",
      "10\n",
      "12\n",
      "12\n",
      "15\n",
      "18\n"
     ]
    }
   ],
   "source": [
    "for i in (1,2,3): # iç içe for döngüsü\n",
    "    for j in [4,5,6]:\n",
    "        print(i*j)"
   ]
  },
  {
   "cell_type": "code",
   "execution_count": 16,
   "metadata": {},
   "outputs": [
    {
     "data": {
      "text/plain": [
       "[4, 5, 6, 8, 10, 12, 12, 15, 18]"
      ]
     },
     "execution_count": 16,
     "metadata": {},
     "output_type": "execute_result"
    }
   ],
   "source": [
    "[i*j for i in (1,2,3) for j in [4,5,6] ] # iç içe for döngüsü list comprehension ile çözüm"
   ]
  },
  {
   "cell_type": "markdown",
   "metadata": {},
   "source": [
    "# FUNCTIONS"
   ]
  },
  {
   "cell_type": "code",
   "execution_count": 17,
   "metadata": {},
   "outputs": [],
   "source": [
    "#def fonk_ismi(parametre/parametreler): \n",
    "    #işlem satırı"
   ]
  },
  {
   "cell_type": "code",
   "execution_count": 18,
   "metadata": {},
   "outputs": [],
   "source": [
    "def kareler_toplamı (x, y):\n",
    "    print(x ** 2 + y ** 2)"
   ]
  },
  {
   "cell_type": "code",
   "execution_count": 19,
   "metadata": {},
   "outputs": [
    {
     "name": "stdout",
     "output_type": "stream",
     "text": [
      "34\n"
     ]
    }
   ],
   "source": [
    "kareler_toplamı(5, 3)"
   ]
  },
  {
   "cell_type": "code",
   "execution_count": 21,
   "metadata": {},
   "outputs": [
    {
     "data": {
      "text/plain": [
       "<function print(*args, sep=' ', end='\\n', file=None, flush=False)>"
      ]
     },
     "execution_count": 21,
     "metadata": {},
     "output_type": "execute_result"
    }
   ],
   "source": [
    "print"
   ]
  },
  {
   "cell_type": "code",
   "execution_count": 22,
   "metadata": {},
   "outputs": [
    {
     "data": {
      "text/plain": [
       "<function __main__.kareler_toplamı(x, y)>"
      ]
     },
     "execution_count": 22,
     "metadata": {},
     "output_type": "execute_result"
    }
   ],
   "source": [
    "kareler_toplamı #çağırmayı unuttuğunda hata kodları farklı dönüyor. dikkat et."
   ]
  },
  {
   "cell_type": "code",
   "execution_count": 38,
   "metadata": {},
   "outputs": [],
   "source": [
    "def küpler_toplamı(x, y):\n",
    "    \"\"\"bu fonksiyon iki sayının küpünü toplar\"\"\" #bu ifade açıklama ifadesi, görnmesini istiyosan hemen fonksiyonun altına yazacaksın.\n",
    "\n",
    "    print(x ** 3 + y ** 3)"
   ]
  },
  {
   "cell_type": "code",
   "execution_count": 39,
   "metadata": {},
   "outputs": [
    {
     "name": "stdout",
     "output_type": "stream",
     "text": [
      "72\n"
     ]
    }
   ],
   "source": [
    "küpler_toplamı (2, 4)"
   ]
  },
  {
   "cell_type": "code",
   "execution_count": 40,
   "metadata": {},
   "outputs": [
    {
     "name": "stdout",
     "output_type": "stream",
     "text": [
      "Help on function küpler_toplamı in module __main__:\n",
      "\n",
      "küpler_toplamı(x, y)\n",
      "    bu fonksiyon iki sayının küpünü toplar\n",
      "\n"
     ]
    }
   ],
   "source": [
    "help(küpler_toplamı)"
   ]
  },
  {
   "cell_type": "code",
   "execution_count": 27,
   "metadata": {},
   "outputs": [
    {
     "ename": "TypeError",
     "evalue": "küpler_toplamı() missing 2 required positional arguments: 'x' and 'y'",
     "output_type": "error",
     "traceback": [
      "\u001b[1;31m---------------------------------------------------------------------------\u001b[0m",
      "\u001b[1;31mTypeError\u001b[0m                                 Traceback (most recent call last)",
      "Cell \u001b[1;32mIn[27], line 1\u001b[0m\n\u001b[1;32m----> 1\u001b[0m \u001b[43mküpler_toplamı\u001b[49m\u001b[43m \u001b[49m\u001b[43m(\u001b[49m\u001b[43m)\u001b[49m \u001b[38;5;66;03m#gerekli parametreleri girmezsek otomatik hata verir.\u001b[39;00m\n",
      "\u001b[1;31mTypeError\u001b[0m: küpler_toplamı() missing 2 required positional arguments: 'x' and 'y'"
     ]
    }
   ],
   "source": [
    "küpler_toplamı () #gerekli parametreleri girmezsek otomatik hata verir."
   ]
  },
  {
   "cell_type": "code",
   "execution_count": 28,
   "metadata": {},
   "outputs": [
    {
     "ename": "TypeError",
     "evalue": "küpler_toplamı() missing 1 required positional argument: 'y'",
     "output_type": "error",
     "traceback": [
      "\u001b[1;31m---------------------------------------------------------------------------\u001b[0m",
      "\u001b[1;31mTypeError\u001b[0m                                 Traceback (most recent call last)",
      "Cell \u001b[1;32mIn[28], line 1\u001b[0m\n\u001b[1;32m----> 1\u001b[0m \u001b[43mküpler_toplamı\u001b[49m\u001b[43m \u001b[49m\u001b[43m(\u001b[49m\u001b[38;5;241;43m3\u001b[39;49m\u001b[43m)\u001b[49m \u001b[38;5;66;03m#gerekli parametreleri girmezsek otomatik hata verir.\u001b[39;00m\n",
      "\u001b[1;31mTypeError\u001b[0m: küpler_toplamı() missing 1 required positional argument: 'y'"
     ]
    }
   ],
   "source": [
    "küpler_toplamı (3) #gerekli tüm parametreleri girmezsek otomatik hata verir."
   ]
  },
  {
   "cell_type": "code",
   "execution_count": 30,
   "metadata": {},
   "outputs": [],
   "source": [
    "def küpler_toplamı2(x, y): #tanımlarken kullanılan x ve y parametredir.çağrılırken parametre yerine yazılan sabitler argümandır.\n",
    "\n",
    "    print(x ** 3 + y ** 3)\n",
    "\n",
    "    \"\"\"bu fonksiyon iki sayının küpünü toplar\"\"\" #bu ifade açıklama ifadesi, artık help ile de interaktif olarak da görünmez.def li ifadenin hemen altına yazmalıydın."
   ]
  },
  {
   "cell_type": "code",
   "execution_count": 32,
   "metadata": {},
   "outputs": [
    {
     "name": "stdout",
     "output_type": "stream",
     "text": [
      "Help on function küpler_toplamı2 in module __main__:\n",
      "\n",
      "küpler_toplamı2(x, y)\n",
      "\n"
     ]
    }
   ],
   "source": [
    "help(küpler_toplamı2)"
   ]
  },
  {
   "cell_type": "code",
   "execution_count": 34,
   "metadata": {},
   "outputs": [],
   "source": [
    "def neşet_baba():\n",
    "    print(\"kadınlar insandır biz insanoğlu\") #fonksiyonu parametresiz oluşturabilirsin."
   ]
  },
  {
   "cell_type": "code",
   "execution_count": 35,
   "metadata": {},
   "outputs": [
    {
     "name": "stdout",
     "output_type": "stream",
     "text": [
      "kadınlar insandır biz insanoğlu\n"
     ]
    }
   ],
   "source": [
    "neşet_baba()"
   ]
  },
  {
   "cell_type": "code",
   "execution_count": 36,
   "metadata": {},
   "outputs": [
    {
     "ename": "TypeError",
     "evalue": "neşet_baba() takes 0 positional arguments but 1 was given",
     "output_type": "error",
     "traceback": [
      "\u001b[1;31m---------------------------------------------------------------------------\u001b[0m",
      "\u001b[1;31mTypeError\u001b[0m                                 Traceback (most recent call last)",
      "Cell \u001b[1;32mIn[36], line 1\u001b[0m\n\u001b[1;32m----> 1\u001b[0m \u001b[43mneşet_baba\u001b[49m\u001b[43m(\u001b[49m\u001b[38;5;241;43m5\u001b[39;49m\u001b[43m)\u001b[49m\n",
      "\u001b[1;31mTypeError\u001b[0m: neşet_baba() takes 0 positional arguments but 1 was given"
     ]
    }
   ],
   "source": [
    "neşet_baba(5)"
   ]
  },
  {
   "cell_type": "code",
   "execution_count": 37,
   "metadata": {},
   "outputs": [],
   "source": [
    "def calculator(num1, opr, num2):\n",
    "    if opr == \"+\":\n",
    "        print(num1 + num2)\n",
    "\n",
    "    elif opr == \"-\":\n",
    "        print(num1 - num2)\n",
    "\n",
    "    elif opr == \"*\":\n",
    "        print(num1 * num2)\n",
    "\n",
    "    elif opr == \"/\":\n",
    "        print(num1 * num2)\n",
    "    else:\n",
    "        print(\"hatalı operatör girişi\")"
   ]
  },
  {
   "cell_type": "code",
   "execution_count": 38,
   "metadata": {},
   "outputs": [
    {
     "name": "stdout",
     "output_type": "stream",
     "text": [
      "12\n"
     ]
    }
   ],
   "source": [
    "calculator(5, \"+\", 7)"
   ]
  },
  {
   "cell_type": "code",
   "execution_count": 39,
   "metadata": {},
   "outputs": [
    {
     "name": "stdout",
     "output_type": "stream",
     "text": [
      "35\n"
     ]
    }
   ],
   "source": [
    "calculator(5, \"*\", 7)"
   ]
  },
  {
   "cell_type": "code",
   "execution_count": 40,
   "metadata": {},
   "outputs": [
    {
     "name": "stdout",
     "output_type": "stream",
     "text": [
      "hatalı operatör girişi\n"
     ]
    }
   ],
   "source": [
    "calculator(\"*\", 5,  7)"
   ]
  },
  {
   "cell_type": "code",
   "execution_count": 41,
   "metadata": {},
   "outputs": [
    {
     "name": "stdout",
     "output_type": "stream",
     "text": [
      "techpro\n"
     ]
    }
   ],
   "source": [
    "calculator(\"tech\", \"+\", \"pro\")"
   ]
  },
  {
   "cell_type": "code",
   "execution_count": 42,
   "metadata": {},
   "outputs": [
    {
     "ename": "TypeError",
     "evalue": "unsupported operand type(s) for -: 'str' and 'str'",
     "output_type": "error",
     "traceback": [
      "\u001b[1;31m---------------------------------------------------------------------------\u001b[0m",
      "\u001b[1;31mTypeError\u001b[0m                                 Traceback (most recent call last)",
      "Cell \u001b[1;32mIn[42], line 1\u001b[0m\n\u001b[1;32m----> 1\u001b[0m \u001b[43mcalculator\u001b[49m\u001b[43m(\u001b[49m\u001b[38;5;124;43m\"\u001b[39;49m\u001b[38;5;124;43mtech\u001b[39;49m\u001b[38;5;124;43m\"\u001b[39;49m\u001b[43m,\u001b[49m\u001b[43m \u001b[49m\u001b[38;5;124;43m\"\u001b[39;49m\u001b[38;5;124;43m-\u001b[39;49m\u001b[38;5;124;43m\"\u001b[39;49m\u001b[43m,\u001b[49m\u001b[43m \u001b[49m\u001b[38;5;124;43m\"\u001b[39;49m\u001b[38;5;124;43mpro\u001b[39;49m\u001b[38;5;124;43m\"\u001b[39;49m\u001b[43m)\u001b[49m\n",
      "Cell \u001b[1;32mIn[37], line 6\u001b[0m, in \u001b[0;36mcalculator\u001b[1;34m(num1, opr, num2)\u001b[0m\n\u001b[0;32m      3\u001b[0m     \u001b[38;5;28mprint\u001b[39m(num1 \u001b[38;5;241m+\u001b[39m num2)\n\u001b[0;32m      5\u001b[0m \u001b[38;5;28;01melif\u001b[39;00m opr \u001b[38;5;241m==\u001b[39m \u001b[38;5;124m\"\u001b[39m\u001b[38;5;124m-\u001b[39m\u001b[38;5;124m\"\u001b[39m:\n\u001b[1;32m----> 6\u001b[0m     \u001b[38;5;28mprint\u001b[39m(\u001b[43mnum1\u001b[49m\u001b[43m \u001b[49m\u001b[38;5;241;43m-\u001b[39;49m\u001b[43m \u001b[49m\u001b[43mnum2\u001b[49m)\n\u001b[0;32m      8\u001b[0m \u001b[38;5;28;01melif\u001b[39;00m opr \u001b[38;5;241m==\u001b[39m \u001b[38;5;124m\"\u001b[39m\u001b[38;5;124m*\u001b[39m\u001b[38;5;124m\"\u001b[39m:\n\u001b[0;32m      9\u001b[0m     \u001b[38;5;28mprint\u001b[39m(num1 \u001b[38;5;241m*\u001b[39m num2)\n",
      "\u001b[1;31mTypeError\u001b[0m: unsupported operand type(s) for -: 'str' and 'str'"
     ]
    }
   ],
   "source": [
    "calculator(\"tech\", \"-\", \"pro\")"
   ]
  },
  {
   "cell_type": "code",
   "execution_count": 41,
   "metadata": {},
   "outputs": [],
   "source": [
    "def my_len(x):\n",
    "    \"\"\"len fonksiyonunu beğenmediğim için kendi fonksiyonumu yazıyorum. bu fonksiyon bir iterable'ın uzunluğunu verir.\"\"\"\n",
    "    sayaç = 0\n",
    "\n",
    "    for i in x: #xi for döngüsüyle kullanınca x'in iterable olması gerektiğini python anladı. o yüzden bir sonraki kodda hata verdi.\n",
    "        sayaç += 1\n",
    "\n",
    "    print(sayaç)\n"
   ]
  },
  {
   "cell_type": "code",
   "execution_count": 44,
   "metadata": {},
   "outputs": [
    {
     "ename": "TypeError",
     "evalue": "'int' object is not iterable",
     "output_type": "error",
     "traceback": [
      "\u001b[1;31m---------------------------------------------------------------------------\u001b[0m",
      "\u001b[1;31mTypeError\u001b[0m                                 Traceback (most recent call last)",
      "Cell \u001b[1;32mIn[44], line 1\u001b[0m\n\u001b[1;32m----> 1\u001b[0m \u001b[43mmy_len\u001b[49m\u001b[43m(\u001b[49m\u001b[38;5;241;43m125\u001b[39;49m\u001b[43m)\u001b[49m\n",
      "Cell \u001b[1;32mIn[43], line 5\u001b[0m, in \u001b[0;36mmy_len\u001b[1;34m(x)\u001b[0m\n\u001b[0;32m      2\u001b[0m \u001b[38;5;250m\u001b[39m\u001b[38;5;124;03m\"\"\"len fonksiyonunu beğenmediğim için kendi fonksiyonumu yazıyorum. bu fonksiyon bir iterable'ın uzunluğunu verir.\"\"\"\u001b[39;00m\n\u001b[0;32m      3\u001b[0m sayaç \u001b[38;5;241m=\u001b[39m \u001b[38;5;241m0\u001b[39m\n\u001b[1;32m----> 5\u001b[0m \u001b[43m\u001b[49m\u001b[38;5;28;43;01mfor\u001b[39;49;00m\u001b[43m \u001b[49m\u001b[43mi\u001b[49m\u001b[43m \u001b[49m\u001b[38;5;129;43;01min\u001b[39;49;00m\u001b[43m \u001b[49m\u001b[43mx\u001b[49m\u001b[43m:\u001b[49m\n\u001b[0;32m      6\u001b[0m \u001b[43m    \u001b[49m\u001b[43msayaç\u001b[49m\u001b[43m \u001b[49m\u001b[38;5;241;43m+\u001b[39;49m\u001b[38;5;241;43m=\u001b[39;49m\u001b[43m \u001b[49m\u001b[38;5;241;43m1\u001b[39;49m\n\u001b[0;32m      8\u001b[0m \u001b[38;5;28mprint\u001b[39m(sayaç)\n",
      "\u001b[1;31mTypeError\u001b[0m: 'int' object is not iterable"
     ]
    }
   ],
   "source": [
    "my_len(125)"
   ]
  },
  {
   "cell_type": "code",
   "execution_count": 42,
   "metadata": {},
   "outputs": [
    {
     "name": "stdout",
     "output_type": "stream",
     "text": [
      "7\n"
     ]
    }
   ],
   "source": [
    "my_len(\"techpro\")"
   ]
  },
  {
   "cell_type": "code",
   "execution_count": 46,
   "metadata": {},
   "outputs": [
    {
     "name": "stdout",
     "output_type": "stream",
     "text": [
      "5\n"
     ]
    }
   ],
   "source": [
    "my_len([1, 2, 3, 4, 5])"
   ]
  },
  {
   "cell_type": "markdown",
   "metadata": {},
   "source": [
    "ödev: Kullanıcıdan aldığınız bir sayının Armstrong number olup olmadığını kontrol eden algoritmayı oluşturun\n"
   ]
  },
  {
   "cell_type": "code",
   "execution_count": null,
   "metadata": {},
   "outputs": [],
   "source": []
  }
 ],
 "metadata": {
  "kernelspec": {
   "display_name": "Python 3",
   "language": "python",
   "name": "python3"
  },
  "language_info": {
   "codemirror_mode": {
    "name": "ipython",
    "version": 3
   },
   "file_extension": ".py",
   "mimetype": "text/x-python",
   "name": "python",
   "nbconvert_exporter": "python",
   "pygments_lexer": "ipython3",
   "version": "3.12.2"
  }
 },
 "nbformat": 4,
 "nbformat_minor": 2
}
