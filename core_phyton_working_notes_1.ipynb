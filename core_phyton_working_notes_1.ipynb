{
 "cells": [
  {
   "cell_type": "markdown",
   "metadata": {},
   "source": [
    "# Birinci  Hafta Özet (26.01.2024 - 27.01-2024)"
   ]
  },
  {
   "cell_type": "code",
   "execution_count": 2,
   "metadata": {},
   "outputs": [],
   "source": [
    "#\"'str' object is not callable\" şeklinde bir hata genelde jupyter ile ilgilidir.dosyayı kapatıp açmak ya da restart tuşuna basmak çözüm olur.\n",
    "\n",
    "#case sensitive, fonksiyonlar küçük harfle, boolean değerler büyük harfle başlar gibi özellikler mevcut.\n",
    "\n",
    "#markdown satırı tam bir yorum satırı değil, html kodları vs. için de kulllanılır.\n",
    "\n",
    "#pep8 kuralları = clean code kuaralları, mesela tek satırda 79 karakteri aşma gibi. bakınız: https://peps.python.org/pep-0008/\n",
    "\n",
    "#b tuşu yeni kod satırı oluşturur, ctrl+alt+enter cod satırını çalıştırır, shift+enter hem çalıştırır hem de altta yeni kod bloğu oluşturur."
   ]
  },
  {
   "cell_type": "code",
   "execution_count": 3,
   "metadata": {},
   "outputs": [
    {
     "name": "stdout",
     "output_type": "stream",
     "text": [
      "hello\n",
      "      world\n"
     ]
    }
   ],
   "source": [
    "print(\"\"\"hello\n",
    "      world\"\"\") #3 çift tırnak ya da 3 tek tırnak önemlii! içine yazdığın gibi çıktı verir."
   ]
  },
  {
   "cell_type": "code",
   "execution_count": 4,
   "metadata": {},
   "outputs": [
    {
     "name": "stdout",
     "output_type": "stream",
     "text": [
      "'techpro'\n"
     ]
    }
   ],
   "source": [
    "print(\"'techpro'\")"
   ]
  },
  {
   "cell_type": "code",
   "execution_count": 3,
   "metadata": {},
   "outputs": [
    {
     "name": "stdout",
     "output_type": "stream",
     "text": [
      "\"'\n"
     ]
    }
   ],
   "source": [
    "print(\"\"\"\"'\"\"\") #eğer 3 tırnak yazarsan başa tamam ben 3 tırnakla başlamışım der.devamında kapatmak için ard arda 3 tırnak arar. bulana kadar olan içeriği string kabul eder."
   ]
  },
  {
   "cell_type": "code",
   "execution_count": 6,
   "metadata": {},
   "outputs": [
    {
     "ename": "SyntaxError",
     "evalue": "unterminated string literal (detected at line 1) (2301317359.py, line 1)",
     "output_type": "error",
     "traceback": [
      "\u001b[1;36m  Cell \u001b[1;32mIn[6], line 1\u001b[1;36m\u001b[0m\n\u001b[1;33m    print(\"\"\"\"\"\"\") #phyton okuma mantığında ilk üç tırnağı algılıyor. sonraki üç kapatma tırnağını arıyor. bulduğu an kapatılmış diye düşünüyor. sonda kalan tırnak string olarak algılanmadığı için hata veriyor.\u001b[0m\n\u001b[1;37m                ^\u001b[0m\n\u001b[1;31mSyntaxError\u001b[0m\u001b[1;31m:\u001b[0m unterminated string literal (detected at line 1)\n"
     ]
    }
   ],
   "source": [
    "print(\"\"\"\"\"\"\") #phyton okuma mantığında ilk üç tırnağı algılıyor. sonraki üç kapatma tırnağını arıyor. bulduğu an kapatılmış diye düşünüyor. sonda kalan tırnak string olarak algılanmadığı için hata veriyor."
   ]
  },
  {
   "cell_type": "code",
   "execution_count": 4,
   "metadata": {},
   "outputs": [
    {
     "name": "stdout",
     "output_type": "stream",
     "text": [
      "\n"
     ]
    }
   ],
   "source": [
    "print(\"\"\"\"\"\"\"\")"
   ]
  },
  {
   "cell_type": "code",
   "execution_count": 5,
   "metadata": {},
   "outputs": [
    {
     "ename": "SyntaxError",
     "evalue": "invalid syntax. Maybe you meant '==' or ':=' instead of '='? (3420416322.py, line 9)",
     "output_type": "error",
     "traceback": [
      "\u001b[1;36m  Cell \u001b[1;32mIn[5], line 9\u001b[1;36m\u001b[0m\n\u001b[1;33m    age = 32, name = \"sedat\" #hata verir. aradaki virgül olmasa da tek satırda bu şekilde değişken tanımlanmaz, ama virgül yerine noktalı virgül olur.\u001b[0m\n\u001b[1;37m    ^\u001b[0m\n\u001b[1;31mSyntaxError\u001b[0m\u001b[1;31m:\u001b[0m invalid syntax. Maybe you meant '==' or ':=' instead of '='?\n"
     ]
    }
   ],
   "source": [
    " # değişken tanımlarken değişken adı rakam ile başlayamaz. _ dışında hiçbir sembol içeremez. _ sembolü değişken adının başında yer alabilir\n",
    "age_2 = 85   \n",
    "course =\"techpro education\"    # bazı değişken tanımlamaları\n",
    "_fb = \"şampiyon :)\"\n",
    "cevap_1 = False\n",
    "piNumber = 3.14 \n",
    "name_13 = name_14 = \"ahmet\"\n",
    "name_7, name_8 = \"mustafa\", \"ceren\"  #böyle olmak zorunda tek name-2 value ya da iki name tek value olamaz. ayrıca şu da bir hatalı kullanım:  name_9, name_10=\"Kadir, Betül\"\n",
    "age = 32, name = \"sedat\" #hata verir. aradaki virgül olmasa da tek satırda bu şekilde değişken tanımlanmaz, ama virgül yerine noktalı virgül olur."
   ]
  },
  {
   "cell_type": "code",
   "execution_count": 1,
   "metadata": {},
   "outputs": [],
   "source": [
    "#değişken adları yalnızca bu kelimelerden oluşamaz. ['False', 'None', 'True', 'and', 'as', 'assert', 'async', 'await', 'break', 'class', 'continue', 'def', 'del', 'elif', 'else', 'except', 'finally', 'for', 'from', 'global', 'if', 'import', 'in', 'is', 'lambda', 'nonlocal','not', 'or', 'pass', 'raise', 'return', 'try', 'while', 'with', 'yield']"
   ]
  },
  {
   "cell_type": "code",
   "execution_count": 6,
   "metadata": {},
   "outputs": [
    {
     "name": "stdout",
     "output_type": "stream",
     "text": [
      "85 şampiyon :) False hayat bayram olsa\n"
     ]
    }
   ],
   "source": [
    "print(age_2, _fb, cevap_1, \"hayat bayram olsa\") #değişken ya da ifadeleri print ile tek satırda yazmak için değişken adları arasına virgül koymak zorundasın."
   ]
  },
  {
   "cell_type": "code",
   "execution_count": 7,
   "metadata": {},
   "outputs": [
    {
     "data": {
      "text/plain": [
       "bool"
      ]
     },
     "execution_count": 7,
     "metadata": {},
     "output_type": "execute_result"
    }
   ],
   "source": [
    "type(False) #type fonksiyonu içine aldığı değişkenin ya da ifadenin türünü döndürür."
   ]
  },
  {
   "cell_type": "code",
   "execution_count": 7,
   "metadata": {},
   "outputs": [
    {
     "name": "stdout",
     "output_type": "stream",
     "text": [
      "24\n",
      "25\n",
      "24\n",
      "34\n"
     ]
    }
   ],
   "source": [
    "#round kullanımı\n",
    "print(round(24.1))\n",
    "print(round(24.6))\n",
    "print(round(23.5)) #tekse yukarı yuvarlama\n",
    "print(round(34.5)) #çiftse aşağı yuvarlama\n"
   ]
  },
  {
   "cell_type": "code",
   "execution_count": 8,
   "metadata": {},
   "outputs": [
    {
     "name": "stdout",
     "output_type": "stream",
     "text": [
      "130.7\n",
      "130.67\n",
      "130.7\n",
      "130.666\n",
      "130.666\n",
      "131.0\n"
     ]
    }
   ],
   "source": [
    "print(round(130.666, 1))\n",
    "print(round(130.666, 2))\n",
    "print(round(130.6964583, 2))\n",
    "print(round(130.666, 3))\n",
    "print(round(130.666, 4))\n",
    "print(round(130.666, 0))"
   ]
  },
  {
   "cell_type": "code",
   "execution_count": 9,
   "metadata": {},
   "outputs": [
    {
     "name": "stdout",
     "output_type": "stream",
     "text": [
      "130.0\n",
      "100.0\n",
      "200.0\n",
      "0.0\n",
      "1000.0\n",
      "0.0\n",
      "0.0\n"
     ]
    }
   ],
   "source": [
    "print(round(130.666, -1))\n",
    "print(round(130.666, -2))\n",
    "print(round(180.666, -2))\n",
    "print(round(130.666, -3))\n",
    "print(round(730.666, -3))\n",
    "print(round(130.666, -1997))\n",
    "print(round(730.666, -1997))\n"
   ]
  },
  {
   "cell_type": "code",
   "execution_count": 10,
   "metadata": {},
   "outputs": [
    {
     "name": "stdout",
     "output_type": "stream",
     "text": [
      "My name is Ahmet Altın and \n",
      "I'm 36 years old.\n",
      "My name is Ahmet Altın and \n",
      "I'm 36 years old.\n",
      "My name is Ahmet Altın and \n",
      "I'm 36 years old.\n",
      "My name is Ahmet Altın and \n",
      "I'm 36 years old.\n"
     ]
    }
   ],
   "source": [
    "# format & f string\n",
    "name = \"Ahmet\"\n",
    "surName = \"Altın\"\n",
    "age = 36\n",
    "\n",
    "\n",
    "greeting = \"My name is {} {} and \\nI'm {} years old.\".format(name, surName, age)\n",
    "print(greeting)\n",
    "\n",
    "greeting = \"My name is {1} {2} and \\nI'm {0} years old.\".format(age, name, surName)\n",
    "print(greeting)\n",
    "\n",
    "greeting = \"My name is {n} {s} and \\nI'm {a} years old.\".format(s=surName, n=name, a=age)\n",
    "print(greeting)\n",
    "\n",
    "greeting = f\"My name is {name} {surName} and \\nI'm {age} years old.\"\n",
    "print(greeting)"
   ]
  },
  {
   "cell_type": "code",
   "execution_count": null,
   "metadata": {},
   "outputs": [],
   "source": [
    "str1 = \"{2}, {1} and {0}\".format(\"a\", \"b\", \"c\")\n",
    "str2 = \"{0}{1}{0}{0}{0}{1}{1}\".format(\"abra\", \"cad\")\n",
    "\n",
    "print(str1, str2, sep=\"\\n\")"
   ]
  },
  {
   "cell_type": "code",
   "execution_count": 8,
   "metadata": {},
   "outputs": [
    {
     "name": "stdout",
     "output_type": "stream",
     "text": [
      "renault\n"
     ]
    }
   ],
   "source": [
    "araba=\"renault\" #bu kodu çalıştırdım. sonra satırı sildim. bu değer silinmiş olmaz. \n",
    "print(araba)"
   ]
  },
  {
   "cell_type": "code",
   "execution_count": 9,
   "metadata": {},
   "outputs": [],
   "source": [
    "del araba # bu kod araba değişkenini siler ram'den"
   ]
  },
  {
   "cell_type": "code",
   "execution_count": 10,
   "metadata": {},
   "outputs": [
    {
     "ename": "NameError",
     "evalue": "name 'araba' is not defined",
     "output_type": "error",
     "traceback": [
      "\u001b[1;31m---------------------------------------------------------------------------\u001b[0m",
      "\u001b[1;31mNameError\u001b[0m                                 Traceback (most recent call last)",
      "Cell \u001b[1;32mIn[10], line 1\u001b[0m\n\u001b[1;32m----> 1\u001b[0m \u001b[43maraba\u001b[49m\n",
      "\u001b[1;31mNameError\u001b[0m: name 'araba' is not defined"
     ]
    }
   ],
   "source": [
    "araba"
   ]
  },
  {
   "cell_type": "markdown",
   "metadata": {},
   "source": [
    "# İkinci  Hafta Özet (29.01.2024 - 03.02-2024)"
   ]
  },
  {
   "cell_type": "code",
   "execution_count": 11,
   "metadata": {},
   "outputs": [
    {
     "name": "stdout",
     "output_type": "stream",
     "text": [
      "False\n"
     ]
    },
    {
     "data": {
      "text/plain": [
       "0.0"
      ]
     },
     "execution_count": 11,
     "metadata": {},
     "output_type": "execute_result"
    }
   ],
   "source": [
    "#aşağıdaki satırların hepsi geçerli işlemlerdir, hata vermez.\n",
    "\n",
    "yas = 32                 #bazı type conversionlar\n",
    "kilo = \"60.8\"    \n",
    "isim = \"4\"           #string ifadenin float ya da int'e dönüşümü için ifadenin mutlaka float'a ya da int'e birebir benzemesi gerek. float'a benzeyen bir stringi direkt int'e çeviremezsin önce float'a çevirmen gerekir.Hata verir yoksa.\n",
    "yanit = False       \n",
    "str(yas)\n",
    "int(isim)\n",
    "float(isim)\n",
    "kilo=float(kilo) #kiloyu önce floata çevirdim sonra inte\n",
    "int(kilo)\n",
    "str(yanit) #çıktısı 'False' şeklinde. bu ifadeyi print(str(yanit)) şeklinde yazdırırsak yalnızca False görecektik. çünkü print sadece değerini gösterir. türünü ifade eden herhangi bir ibare yazdırmaz.\n",
    "print(str(yanit))\n",
    "int(True)\n",
    "float(False)"
   ]
  },
  {
   "cell_type": "code",
   "execution_count": 12,
   "metadata": {},
   "outputs": [
    {
     "data": {
      "text/plain": [
       "7"
      ]
     },
     "execution_count": 12,
     "metadata": {},
     "output_type": "execute_result"
    }
   ],
   "source": [
    "x=int(input())#input() FUNCTION: default string olarak alır girdiyi. inputu string olarak aldıktan sonra int'e çevirmek daha mantıklı. uygun olmayan veri girişlerine karşı\n",
    "x"
   ]
  },
  {
   "cell_type": "code",
   "execution_count": 21,
   "metadata": {},
   "outputs": [
    {
     "data": {
      "text/plain": [
       "7"
      ]
     },
     "execution_count": 21,
     "metadata": {},
     "output_type": "execute_result"
    }
   ],
   "source": [
    "int(5.4)\n",
    "int(5.6) #int fonksiyonu yuvarlama yapmaz. noktadan sonrakini siler. bu iki ifadenin de sonucu 5'tir\n",
    "int(6.9999999999999996) #yukardaki kod satırının istisnası. .99 şeklinde devam eden 15 basamaktan sonra 16. basamak 5ten büyükse üste yuvarlama yapar.\n",
    "int(6.99999999999999954) #bunun çıktısı 6 olur, .dan sonra 17 basamak ama , 16. basamak 5, 17 basamak 4.\n",
    "int(6.99999999999999956) #bunun çıktısı 7 olur (17.basamak)\n",
    "int(6.99999999999999955) #bunun çıktısı 6 olur (17.basamak)\n",
    "int(6.999999999999999556) #bunun çıktısı 7 olur (18.basamak) demekki 16 basamaktan sonra gördüğü ilk 5ten büyük rakamda sayıyı üste yuvarlar."
   ]
  },
  {
   "cell_type": "code",
   "execution_count": null,
   "metadata": {},
   "outputs": [],
   "source": [
    "#arithmetic operators\n",
    "40 / 10 #çıktısı 4.0. bölme işlemi her zaman float sonuç verir.\n",
    "25 // 3 #floor division. bölme işlemindeki bölümü küsüratsız verir.\n",
    "25 % 3 # modulus. bölme işlemindeki kalanı verir.\n",
    "2 ** 3 # ifadesi üs alma işlemidir \n",
    "25 ** 0.5 #bu şekilde kare kökü alabilirsin\n",
    "27 ** (1/3) #küpkökü böyle alabilirsin"
   ]
  },
  {
   "cell_type": "code",
   "execution_count": null,
   "metadata": {},
   "outputs": [
    {
     "data": {
      "text/plain": [
       "18.900000000000002"
      ]
     },
     "execution_count": 6,
     "metadata": {},
     "output_type": "execute_result"
    }
   ],
   "source": [
    "2.7*7 #normalde bu işlemin sonucu 18.9 iken phyton bazen böyle çok ufak küsüratlı garip sonuçlar verebiliyormuş. herekese buşekilde çıkmayabilrimiş. (?)"
   ]
  },
  {
   "cell_type": "code",
   "execution_count": 22,
   "metadata": {},
   "outputs": [
    {
     "data": {
      "text/plain": [
       "3.9999999999999996"
      ]
     },
     "execution_count": 22,
     "metadata": {},
     "output_type": "execute_result"
    }
   ],
   "source": [
    "64 ** (1/3) #sonucun 4 olmasını beklersin ama programlama dilinin altyapıda bazı işlemleri bitlerle yapmasından kaynaklı bir sorun. çok takılma (?)"
   ]
  },
  {
   "cell_type": "code",
   "execution_count": 23,
   "metadata": {},
   "outputs": [
    {
     "name": "stdout",
     "output_type": "stream",
     "text": [
      "Help on built-in function print in module builtins:\n",
      "\n",
      "print(*args, sep=' ', end='\\n', file=None, flush=False)\n",
      "    Prints the values to a stream, or to sys.stdout by default.\n",
      "\n",
      "    sep\n",
      "      string inserted between values, default a space.\n",
      "    end\n",
      "      string appended after the last value, default a newline.\n",
      "    file\n",
      "      a file-like object (stream); defaults to the current sys.stdout.\n",
      "    flush\n",
      "      whether to forcibly flush the stream.\n",
      "\n"
     ]
    }
   ],
   "source": [
    "help(print)"
   ]
  },
  {
   "cell_type": "code",
   "execution_count": 25,
   "metadata": {},
   "outputs": [
    {
     "name": "stdout",
     "output_type": "stream",
     "text": [
      "Mikail***Serhan***Mustafa???orkun\n",
      "sedat\n",
      "aytaç ali\n"
     ]
    }
   ],
   "source": [
    "#print() FUNCTION: sep = \"\" parametresi birden çok değişken varsa aralara tırnak içi ifadeyi ekler. Default değeri bir space'tir. end = \"\" parametresi değişken ya da değişkenleri yazdıktan sonra en sona tırnak içini ekler. default değeri \\n yani new line'dır.\n",
    "\n",
    "print(\"Mikail\", \"Serhan\", \"Mustafa\", sep=\"***\", end = \"???\")\n",
    "\n",
    "print(\"orkun\")\n",
    "\n",
    "print(\"sedat\")\n",
    "\n",
    "print(\"aytaç\", \"ali\")"
   ]
  },
  {
   "cell_type": "code",
   "execution_count": 24,
   "metadata": {},
   "outputs": [
    {
     "name": "stdout",
     "output_type": "stream",
     "text": [
      "I'm a python teacher\n",
      "Bu ders çok uzadı. \n",
      "Bir an önce bitse mi acaba?\n",
      "Bu ders çok uzadı.       \n",
      "Bir an önce bitse mi acaba?\n",
      "Bu ders çok uzadı.\tBir an önce bitse mi acaba?\n",
      "Bu ders çok uzadBir an önce bitse mi acaba?\n",
      "BetüAyşAytaç\n",
      "Bizde geri \\nvites olmaz\n"
     ]
    }
   ],
   "source": [
    "#escape sequances: kodun çalışmasını engelleyen durumların önüne geçmek için varolan bazı karakterlerdir.\n",
    "\n",
    "print('I\\'m a python teacher') #\\ kendinden sonraki karakterin kodsal anlamını atlar,string gibi görür.\n",
    "\n",
    "print(\"Bu ders çok uzadı. \\nBir an önce bitse mi acaba?\") #\\n yeni satıra geç\n",
    "\n",
    "print(\"\"\"Bu ders çok uzadı.       \n",
    "Bir an önce bitse mi acaba?\"\"\")\n",
    "\n",
    "print(\"Bu ders çok uzadı.\", \"Bir an önce bitse mi acaba?\", sep=\"\\t\") #\\t bir tab boşluk\n",
    "\n",
    "print(\"Bu ders çok uzadı.\\b\\bBir an önce bitse mi acaba?\")\n",
    "\n",
    "print(\"Betül\", \"Ayşe\", \"Aytaç\", sep=\"\\b\") #\\b kendinden önceki bir karakteri silme\n",
    "\n",
    "print( r\"Bizde geri \\nvites olmaz\") #r ifadeyi olduğu gibi yazdırır.escape sequances'ları da string görür. escape sequances'ların escape'i"
   ]
  },
  {
   "cell_type": "code",
   "execution_count": 26,
   "metadata": {},
   "outputs": [],
   "source": [
    "#yazdığımız an çalışacak fonksiyonlara built-in function denir. print(), input(), type() gibi."
   ]
  },
  {
   "cell_type": "code",
   "execution_count": 29,
   "metadata": {},
   "outputs": [
    {
     "name": "stdout",
     "output_type": "stream",
     "text": [
      "False\n"
     ]
    },
    {
     "data": {
      "text/plain": [
       "'d'"
      ]
     },
     "execution_count": 29,
     "metadata": {},
     "output_type": "execute_result"
    }
   ],
   "source": [
    "type(3==3) #True çıktı\n",
    "\n",
    "sifre=\"1234\"\n",
    "kull_girisi= input(\"Şifrenizi giriniz: \") #2345 gibi eşleşmeyen değer girdiğimde\n",
    "print(sifre==kull_girisi) #<= , >= , !=, vs. comparison operators'te sembollere dikkat et.eşittir sonra.\n",
    "\n",
    "\"sedat\">\"istanbul\" #ascii tablosuna göre bakar.ilk harfler aynıysa ikinci harfe o aynıysa 3. harfe bakar şeklinde ilerler.farklı olan karakterdeki karşılaştırmanın sonucunu verir. zaten tüm karakterler aynıysa true döndürür.\n",
    "\n",
    "ord(\"a\") #içine yazılan karakterin ascii değerini döndürür.String içine tek karakter.\n",
    "\n",
    "chr(100) #içine yazılan sayısal ascii değerin hangi karaktere denk geldiğini döndürür."
   ]
  },
  {
   "cell_type": "code",
   "execution_count": 32,
   "metadata": {},
   "outputs": [],
   "source": [
    "# BOOLEAN: 0, 0.0, \"\", (), [], {}, None, False->False şeklindeki tüm ifadeler \"False\" tur. bunların dışındakiler True'dur. (FALSY VE TRUTHY OLARAK)\n",
    "#Normalde False = 0 = 0.0 True = 1 = 1.0\n"
   ]
  },
  {
   "cell_type": "code",
   "execution_count": 31,
   "metadata": {},
   "outputs": [],
   "source": [
    "#LOGIC EXSPRESSİONS İŞLEM ÖNCELİĞİ:\n",
    "### 1-not -- işlem sonucu her zaman True veya False'tur. \n",
    "### 2-and -- hepsi true ise en sondaki elemanı döndürür. bir tane bile false varsa ilk gördüğü false'u döndürür.\n",
    "### 3-or  -- hepsi false ise en sondakini döndürüR. bir tane bile true varsa ilk gördüğü true'yu döndürür."
   ]
  },
  {
   "cell_type": "code",
   "execution_count": 30,
   "metadata": {},
   "outputs": [
    {
     "data": {
      "text/plain": [
       "True"
      ]
     },
     "execution_count": 30,
     "metadata": {},
     "output_type": "execute_result"
    }
   ],
   "source": [
    "True or False and not 0 and 3 or False"
   ]
  },
  {
   "cell_type": "code",
   "execution_count": 33,
   "metadata": {},
   "outputs": [
    {
     "data": {
      "text/plain": [
       "'kahoot'"
      ]
     },
     "execution_count": 33,
     "metadata": {},
     "output_type": "execute_result"
    }
   ],
   "source": [
    "False or not 0 and 6 and \"kahoot\""
   ]
  },
  {
   "cell_type": "markdown",
   "metadata": {},
   "source": [
    "### Strings- index and slicing - methods"
   ]
  },
  {
   "cell_type": "code",
   "execution_count": null,
   "metadata": {},
   "outputs": [],
   "source": [
    "# immutable değiştirilemez (komple atama yapmadan değiştirilemez.)\n",
    "#iterable yinelenebilir (tek tek elemanlarına ulaşılabilir)"
   ]
  },
  {
   "cell_type": "code",
   "execution_count": 36,
   "metadata": {},
   "outputs": [
    {
     "name": "stdout",
     "output_type": "stream",
     "text": [
      "T\n",
      "n\n",
      "ccc\n",
      "pEt\n",
      "poEu\n",
      "techpro\n"
     ]
    },
    {
     "data": {
      "text/plain": [
       "''"
      ]
     },
     "execution_count": 36,
     "metadata": {},
     "output_type": "execute_result"
    }
   ],
   "source": [
    "name = \"Techpro Education\"\n",
    "\n",
    "print(name[0]) #unutma indeksler 0'dan başlar, space'te bir indekstir. ancak \"\" şeklinde tamamen boş bir string ya da değişkenin indeksi hata verir.\n",
    "\n",
    "print(name[-1]) #tersten index.\n",
    "\n",
    "print(name[11]*3)\n",
    "\n",
    "print(name[4] + name[8] + name[13]) #stringler kendi arasında toplanabilir, yalnızca int ile çarpılabilir, ancak bölünemez ve çıkarılamaz.\n",
    "\n",
    "print(name[4:12:2]) #start:stop:step, start dahil, stop noktasını sen yazmışsan dahil değil. Ayrıca olmayan indeks istenirse:\"Techpro\" [4:7] (çalışır), \"Techpro\" [7] hata verir.\n",
    "\n",
    "print(\"techpro\" [::]) #tüm adımlar için defaultu aldı. hepsini yazdırdı.\n",
    "\n",
    "\"Techpro\" [8:12] #bu aralık mevcut olmadığı halde hata vermedi. boş string döndürdü.Çünkü slicing, indexing'de hata verir."
   ]
  },
  {
   "cell_type": "code",
   "execution_count": 37,
   "metadata": {},
   "outputs": [
    {
     "name": "stdout",
     "output_type": "stream",
     "text": [
      "\n"
     ]
    },
    {
     "data": {
      "text/plain": [
       "'noitacude orphcet'"
      ]
     },
     "execution_count": 37,
     "metadata": {},
     "output_type": "execute_result"
    }
   ],
   "source": [
    "print(\"techpro\" [1:5:-1]) #start olan birden başlayıp sola doğru -1 gittiği için stopla hiç karşılaşmadı ve boş string döndürdü. \n",
    "\n",
    "\"Techpro\" [5:1] #boş string\n",
    "\"Techpro\" [1:1] #boş string\n",
    "\"techpro education\" [::-1] #-1i gördüğünde default start ve stopun yerini default olarak değiştirdiği için ifadeyi full olarak tersten yazdırdı."
   ]
  },
  {
   "cell_type": "code",
   "execution_count": 41,
   "metadata": {},
   "outputs": [
    {
     "name": "stdout",
     "output_type": "stream",
     "text": [
      "TECHPRO\n",
      "techpro\n",
      "Techprro eee education\n",
      "Techprro Eee Education\n",
      "TECHprRO EEE eDUcATION\n",
      "t?chPRro eee EduCation\n"
     ]
    }
   ],
   "source": [
    "#METHODS: tek başına çalışmaz stringifade/değişken.methodadı() şeklinde çalışır. en çok methodu olan data type stringdir: \n",
    "\n",
    "name=\"techPRro eee EduCation\"\n",
    "print(\"techpro\".upper (),  \n",
    "      'TECHPRO'.lower(),\n",
    "      name.capitalize(),\n",
    "      name.title(),        \n",
    "      name.swapcase(),     \n",
    "      name.replace(\"e\", \"?\", 1), sep = \"\\n\") #.replace(ilk değer, son değer, adet şeklinde çalışır.)adet varsayılanı -1'dir. eşleşen değerlerin tümünü değiştirir. yazdığın her negatif sayıda aynı sonucu verir. "
   ]
  },
  {
   "cell_type": "code",
   "execution_count": 42,
   "metadata": {},
   "outputs": [
    {
     "name": "stdout",
     "output_type": "stream",
     "text": [
      "emRe\n"
     ]
    },
    {
     "data": {
      "text/plain": [
       "'!Serhün!Murüt?'"
      ]
     },
     "execution_count": 42,
     "metadata": {},
     "output_type": "execute_result"
    }
   ],
   "source": [
    "#methodlar index ya da slicingle ya da birbirleriyle birlikte kullanılabilir.method sonucunda çıkan type string olduğu sürece peş peşe methodlar sıralanabilir.\n",
    "print(\"emre\"[0:2]+\"emre\"[2:].capitalize())\n",
    "\"?serhan?murat?\".replace(\"?\", \"*\", 2).replace(\"a\", \"ü\").title().replace(\"*\", \"!\") "
   ]
  },
  {
   "cell_type": "code",
   "execution_count": 53,
   "metadata": {},
   "outputs": [
    {
     "name": "stdout",
     "output_type": "stream",
     "text": [
      "techPRro eee EduCation\n"
     ]
    },
    {
     "data": {
      "text/plain": [
       "True"
      ]
     },
     "execution_count": 53,
     "metadata": {},
     "output_type": "execute_result"
    }
   ],
   "source": [
    "#is ile başlayan methodlar: boolean döndürürler.\n",
    "\"techpro99\".isalnum() #alfanumerik mi? True\n",
    "\"techpro-99\".isalnum() #- işareti bir punctuations, alnum'a girmiyor. False\n",
    "\"techpro99\".isalpha() #numerik karakterler de var. false o yüzden.\n",
    "print(name)\n",
    "name.islower() #hepsi küçük harf mi.False\n",
    "\"1234\".isdigit() #is numeric is digit is decimal hepsi birbirinin aynısı gibi detayını öğrenmek için bakabilirsin.çok küçük nüansları var.\n",
    "\n",
    "#isdecimal() method supports only Decimal Numbers.(-leri dahil etmiyor) #bu bilgileri tekrar araştır hatalı gibi.\n",
    "#isdigit() method supports Decimals, Subscripts, Superscripts.(-leri dahil etmiyor)\n",
    "#isnumeric() method supports Digits, Vulgar Fractions, Subscripts, Superscripts, Roman Numerals, Currency Numerators.(-leri dahil etmiyor)\n"
   ]
  },
  {
   "cell_type": "code",
   "execution_count": 111,
   "metadata": {},
   "outputs": [
    {
     "name": "stdout",
     "output_type": "stream",
     "text": [
      "18\n",
      "17\n",
      "1\n",
      "0\n",
      "1\n",
      "3\n"
     ]
    },
    {
     "data": {
      "text/plain": [
       "2"
      ]
     },
     "execution_count": 111,
     "metadata": {},
     "output_type": "execute_result"
    }
   ],
   "source": [
    "#count() methodu:paranteze bir ya da çok karakterli tek bir string alır. yoksa hata verir.\n",
    "\n",
    "the_course = \"techpro education\"\n",
    "print(the_course.count(\"\")) #len()'den bir fazlasını döndürür. çünkü imlecin karakterler arasında durduğu yeri sayıyor.\n",
    "print(len(the_course)) #karakter sayısı çevirir.methode değil, fonksiyon.\n",
    "print(the_course.count(\"ch\"))\n",
    "print(the_course.count(\"ö\")) #karakter yoksa 0 döndürüyor.\n",
    "print(the_course.count(\" \")) #mesela yazdığın stringte kaç kelime olduğunu bulmak istiyosan çıkan sonuç + 1 dersin.Çünkü boşluk sayıyor.\n",
    "\n",
    "print(the_course.index(\"h\")) #içine yazılan değerin indexini döndürür.\n",
    "the_course.index(\"ch\") #ifade birden çok elemanlı ise ifadenin başladığı indexi döndürür."
   ]
  },
  {
   "cell_type": "code",
   "execution_count": 55,
   "metadata": {},
   "outputs": [
    {
     "name": "stdout",
     "output_type": "stream",
     "text": [
      "1\n",
      "3\n",
      "0\n"
     ]
    },
    {
     "data": {
      "text/plain": [
       "2"
      ]
     },
     "execution_count": 55,
     "metadata": {},
     "output_type": "execute_result"
    }
   ],
   "source": [
    "print(\"techpro\".replace(\"e\", \"a\", 1).title().count(\"ch\")) #sonuç int olduğu için string methodlara devam edilemez.\n",
    "print(\"techpro\".replace(\"e\", \"a\", 1).title().isalpha()*3) #isalpha'dan True çıktı bunu 1 kabul edip matematiksel işlemi yaptı.\n",
    "print(\"techpro education\".count(\"k\" or \"c\")) #k'ya baktı 0 döndü ilk ifadeyi aldı.ilk tru'yu aramadı yani\n",
    "\"techpro education\".count(\"ö\" and \"o\") #o'ya baktı 2 döndü son ifadeyi verdi.İlk değerin üreteceği 0 sonucunu  almadı yani."
   ]
  },
  {
   "cell_type": "code",
   "execution_count": 56,
   "metadata": {},
   "outputs": [
    {
     "name": "stdout",
     "output_type": "stream",
     "text": [
      "['Techpro', 'is', 'the', 'best', 'course', 'in', 'the', 'world']\n",
      "['Techpr', ' is the best c', 'urse in the w', 'rld']\n",
      "['Techpr', ' is the best course in the world']\n"
     ]
    },
    {
     "data": {
      "text/plain": [
       "['Techpro is the best course in the world']"
      ]
     },
     "execution_count": 56,
     "metadata": {},
     "output_type": "execute_result"
    }
   ],
   "source": [
    "#split() methodu: stringi belirtilen noktadan string parçalara böler. varsayılan değer boşluktur.böldüğü yerdeki karakteri, boşluğu yok eder, string'e dahil etmez.Liste döndürür.\n",
    "str_2= 'Techpro is the best course in the world'\n",
    "print(str_2.split()) #default olarak boşluklardan parçalar.\n",
    "print(str_2.split(\"o\")) #split(\"splitnoktası\", maxsplit) şeklinde.maxsplit default=-1 yani tümü.\n",
    "print(str_2.split(\"o\", 1)) #bir yerine maxsplit = 1'de yazabilirdim.\n",
    "str_2.split(\"g\", maxsplit=2)\n"
   ]
  },
  {
   "cell_type": "code",
   "execution_count": 57,
   "metadata": {},
   "outputs": [
    {
     "name": "stdout",
     "output_type": "stream",
     "text": [
      "Help on method_descriptor:\n",
      "\n",
      "split(self, /, sep=None, maxsplit=-1)\n",
      "    Return a list of the substrings in the string, using sep as the separator string.\n",
      "\n",
      "      sep\n",
      "        The separator used to split the string.\n",
      "\n",
      "        When set to None (the default value), will split on any whitespace\n",
      "        character (including \\n \\r \\t \\f and spaces) and will discard\n",
      "        empty strings from the result.\n",
      "      maxsplit\n",
      "        Maximum number of splits.\n",
      "        -1 (the default value) means no limit.\n",
      "\n",
      "    Splitting starts at the front of the string and works to the end.\n",
      "\n",
      "    Note, str.split() is mainly useful for data that has been intentionally\n",
      "    delimited.  With natural text that includes punctuation, consider using\n",
      "    the regular expression module.\n",
      "\n"
     ]
    }
   ],
   "source": [
    "help(str.split)"
   ]
  },
  {
   "cell_type": "code",
   "execution_count": 58,
   "metadata": {},
   "outputs": [
    {
     "name": "stdout",
     "output_type": "stream",
     "text": [
      "Tech    pro\n",
      "Tech??pro\n",
      "???Tech??pro\n",
      "Tech??pro???\n",
      "echpro is tehe be\n"
     ]
    },
    {
     "data": {
      "text/plain": [
       "'chpro is tehe b'"
      ]
     },
     "execution_count": 58,
     "metadata": {},
     "output_type": "execute_result"
    }
   ],
   "source": [
    "#strip() methodu: default olarak baştaki ve sondaki boşlukları siler. eğer parantez içine bir string eklersen baş  ve sondaki o ifadeleri siler.rstrip(), lstrip() ile sadece right veya leftteki boşlukları, karakterleri sildirebilirsin.\n",
    "print(\"     Tech    pro      \".strip())\n",
    "print(\"???Tech??pro???\".strip(\"?\")) \n",
    "print(\"???Tech??pro???\".rstrip(\"?\"))\n",
    "print(\"???Tech??pro???\".lstrip(\"?\"))\n",
    "print(\"techpro is tehe bessttsst\".strip(\"ts\"))#bu örnekte s'yi arar t'yi arar, ts'yi arar st'yi arar bütün versiyonlarını kontrol eder ve siler.\n",
    "\"techpro is tehe bessttsst\".strip(\"tse\")\n"
   ]
  },
  {
   "cell_type": "markdown",
   "metadata": {},
   "source": [
    "# Üçüncü  Hafta Özet (05.02.2024 - 10.02.2024)"
   ]
  },
  {
   "cell_type": "markdown",
   "metadata": {},
   "source": [
    "### if,elif, else"
   ]
  },
  {
   "cell_type": "code",
   "execution_count": 59,
   "metadata": {},
   "outputs": [
    {
     "name": "stdout",
     "output_type": "stream",
     "text": [
      "32\n",
      "123456\n",
      "10, 3 ten büyüktür\n",
      "28\n"
     ]
    },
    {
     "data": {
      "text/plain": [
       "28"
      ]
     },
     "execution_count": 59,
     "metadata": {},
     "output_type": "execute_result"
    }
   ],
   "source": [
    "#if'lerdeki önemli konu\n",
    "if True:\n",
    "    print(8*4) #if'deki espri if değerin yanındaki koşulun true olması.true olduğu sürece veya truthy ifade olduğu sürece çalışır. \n",
    "\n",
    "if 8 % 2:\n",
    "    print(\"acaba çıktı verir mi?\") #0 işlem sonucu, o da false olduğu için çıktı vermez.\n",
    "\n",
    "if (8 == 8):\n",
    "    {\n",
    "print(\"123456\") #kendi denemen. c# taki syntax'a da cevap veriyomuş. ama hiç tab olmadan cevap vermiyor. süslü de girinti ile başlamalı yani.\n",
    "    }\n",
    "\n",
    "if 10 > 3:\n",
    "    print(\"10, 3 ten büyüktür\") \n",
    "    age = 10 * 3 - 2\n",
    "    print(age) #girinti devam ettiği sürece hepsi if bloğu içinde.\n",
    "\n",
    "age # if bloğu içinde tanımlanan değişken if bloğu dışında da geçerlidir."
   ]
  },
  {
   "cell_type": "code",
   "execution_count": 60,
   "metadata": {},
   "outputs": [
    {
     "name": "stdout",
     "output_type": "stream",
     "text": [
      "12\n"
     ]
    }
   ],
   "source": [
    "if \"irem\":\n",
    "    print(\"12\")"
   ]
  },
  {
   "cell_type": "code",
   "execution_count": null,
   "metadata": {},
   "outputs": [],
   "source": [
    "x = float(input(\"lütfen 0 ile 50 arasında bir sayı girin\"))\n",
    "\n",
    "print(x)\n",
    "\n",
    "if x < 10:\n",
    "    print(\"sayı 10 dan küçüktür\")\n",
    "elif x < 35:\n",
    "    print(\"sayı 35 ten küçüktür\")\n",
    "elif x <= 50:\n",
    "    print(\"sayı 50 e eşit veya  küçüktür\")\n",
    "else:\n",
    "    print(\"sayı 0 ile 50 arasında değil.\")  #elif ve else ifadeleri Girintili değil if ile aynı hizada dikkat et."
   ]
  },
  {
   "cell_type": "code",
   "execution_count": null,
   "metadata": {},
   "outputs": [
    {
     "ename": "TypeError",
     "evalue": "'>' not supported between instances of 'int' and 'str'",
     "output_type": "error",
     "traceback": [
      "\u001b[1;31m---------------------------------------------------------------------------\u001b[0m",
      "\u001b[1;31mTypeError\u001b[0m                                 Traceback (most recent call last)",
      "Cell \u001b[1;32mIn[2], line 2\u001b[0m\n\u001b[0;32m      1\u001b[0m x \u001b[38;5;241m=\u001b[39m \u001b[38;5;241m5\u001b[39m\n\u001b[1;32m----> 2\u001b[0m \u001b[38;5;28;01mif\u001b[39;00m \u001b[43mx\u001b[49m\u001b[43m \u001b[49m\u001b[38;5;241;43m>\u001b[39;49m\u001b[43m \u001b[49m\u001b[38;5;124;43m\"\u001b[39;49m\u001b[38;5;124;43mirem\u001b[39;49m\u001b[38;5;124;43m\"\u001b[39;49m:\n\u001b[0;32m      3\u001b[0m     \u001b[38;5;28mprint\u001b[39m(\u001b[38;5;124m\"\u001b[39m\u001b[38;5;124mstring ile integer karşılaştırılamaz.bu nedenle hata verir. \u001b[39m\u001b[38;5;124m\"\u001b[39m)\n",
      "\u001b[1;31mTypeError\u001b[0m: '>' not supported between instances of 'int' and 'str'"
     ]
    }
   ],
   "source": [
    "x = 5\n",
    "if x > \"irem\":\n",
    "    print(\"string ile integer karşılaştırılamaz.bu nedenle hata verir. \")"
   ]
  },
  {
   "cell_type": "markdown",
   "metadata": {},
   "source": [
    "### Lists"
   ]
  },
  {
   "cell_type": "code",
   "execution_count": null,
   "metadata": {},
   "outputs": [],
   "source": [
    "#mutable: değiştirilebilir\n",
    "#iterable: yinelenebilir, tek tek ulaşılabilir.ordered."
   ]
  },
  {
   "cell_type": "code",
   "execution_count": 61,
   "metadata": {},
   "outputs": [
    {
     "name": "stdout",
     "output_type": "stream",
     "text": [
      "[]\n",
      "[1, 2.5, True, 'İrem, [1,2,3,4], bos_liste']\n",
      "['T', 'e', 'c', 'h', 'p', 'r', 'o']\n",
      "['A', 'l', 'i', 'M', 'u', 'r', 'a', 't']\n",
      "4\n",
      "['Mehmet', 5, 'Aslan', 5, 'Mehmet', 'mehmet', 5.0]\n",
      "7\n"
     ]
    }
   ],
   "source": [
    "bos_liste = list () #boş liste oluşturur. fonksiyonun içi iterable ifade alır.\n",
    "print(bos_liste)\n",
    "\n",
    "liste_1 =[1,2.5, True, \"İrem, [1,2,3,4], bos_liste\"]\n",
    "print(liste_1)\n",
    "\n",
    "bos_liste = list(\"Techpro\") #liste_10 = list(\"Ali\", \"Murat\") gibi bi ifade hata verir.\n",
    "print(bos_liste) \n",
    "\n",
    "liste_10 = list(\"Ali\" + \"Murat\")\n",
    "print(liste_10)\n",
    "\n",
    "print(len(\"irem\")) #bu ifade çıktı verir. ancak len(1453) gibi bir ifade hata verir. çünkü integerlar iterable değildir.\n",
    "\n",
    "liste_2 = [\"Mehmet\", 5, \"Aslan\", 5, \"Mehmet\", \"mehmet\", 5.0] #aynı elemandan birden çok olabilir.\n",
    "print(liste_2)\n",
    "\n",
    "print(len(liste_2))"
   ]
  },
  {
   "cell_type": "code",
   "execution_count": 62,
   "metadata": {},
   "outputs": [
    {
     "name": "stdout",
     "output_type": "stream",
     "text": [
      "[1, 2, 3, 4, 5]\n",
      "[4.4]\n",
      "[3, False]\n",
      "[[1, 2, 3, 4, 5], False, 'Orkun', 4.4, 3]\n",
      "1\n",
      "4\n",
      "ali\n"
     ]
    }
   ],
   "source": [
    "#index, slicing ve  list() methodları\n",
    "#start noktasının defaultu 0, stop noktasının defaultu son index dahil, step noktasının default'u 1'dir.tersten okumada eğer tanımlanmadıysa satrt ve stopun defaultu kendi arasında otomatik yer değiştirir.\n",
    "ortaya_karışık = [3, 4.4, \"Orkun\", False, [1, 2, 3, 4, 5]]\n",
    "print(ortaya_karışık[-1])\n",
    "print(ortaya_karışık[1:4:3])\n",
    "print(ortaya_karışık[::3])\n",
    "print(ortaya_karışık[::-1])\n",
    "print(ortaya_karışık[2].upper().count(\"R\"))\n",
    "print(ortaya_karışık[4][3])\n",
    "ortaya_karışık[0] = \"ali\"\n",
    "print(ortaya_karışık[0])"
   ]
  },
  {
   "cell_type": "code",
   "execution_count": 63,
   "metadata": {},
   "outputs": [
    {
     "ename": "TypeError",
     "evalue": "'str' object does not support item assignment",
     "output_type": "error",
     "traceback": [
      "\u001b[1;31m---------------------------------------------------------------------------\u001b[0m",
      "\u001b[1;31mTypeError\u001b[0m                                 Traceback (most recent call last)",
      "Cell \u001b[1;32mIn[63], line 2\u001b[0m\n\u001b[0;32m      1\u001b[0m name \u001b[38;5;241m=\u001b[39m \u001b[38;5;124m\"\u001b[39m\u001b[38;5;124mTechpro Education\u001b[39m\u001b[38;5;124m\"\u001b[39m\n\u001b[1;32m----> 2\u001b[0m \u001b[43mname\u001b[49m\u001b[43m[\u001b[49m\u001b[38;5;241;43m0\u001b[39;49m\u001b[43m]\u001b[49m \u001b[38;5;241m=\u001b[39m \u001b[38;5;124m\"\u001b[39m\u001b[38;5;124mB\u001b[39m\u001b[38;5;124m\"\u001b[39m \u001b[38;5;66;03m#çünkü stringlerimmutable yani değiştirilemez değişkenler iken list'ler mutable, değiştirilebilir değişkenlerdir.Ancak ikisi de iterable'dır.yani elamanlarına tek tek erişilebilir.\u001b[39;00m\n",
      "\u001b[1;31mTypeError\u001b[0m: 'str' object does not support item assignment"
     ]
    }
   ],
   "source": [
    "name = \"Techpro Education\"\n",
    "name[0] = \"B\" #çünkü stringlerimmutable yani değiştirilemez değişkenler iken list'ler mutable, değiştirilebilir değişkenlerdir.Ancak ikisi de iterable'dır.yani elamanlarına tek tek erişilebilir."
   ]
  },
  {
   "cell_type": "code",
   "execution_count": 71,
   "metadata": {},
   "outputs": [
    {
     "name": "stdout",
     "output_type": "stream",
     "text": [
      "[1, 2, 3, 4, 5, 6]\n",
      "[1, 5, 2, 3, 4, 5, 6]\n",
      "[1, 5, 2, 3, 4, 5, 16, 6]\n",
      "[1, 5, 2, 4, 5, 16, 6, 17]\n",
      "1\n",
      "[5, 2, 4, 5, 16, 6, 17]\n",
      "2\n",
      "[2, 4, 5, 5, 6, 16, 17]\n",
      "[17, 16, 6, 5, 5, 4, 2]\n",
      "[]\n"
     ]
    }
   ],
   "source": [
    "sayılar_1 = [1, 2, 3, 4, 5]\n",
    "\n",
    "sayılar_1.append(6) #listenin sonuna parantez içindeki elemanı ekler.sayılar_1.append(8,9) ifadesi ise hata verir. tek append() ile iki eleman eklenemez.ancak append ([1,2]) gibi kullanım mümkündür. listenin tamamını tek bir eleman olarak ekler.\n",
    "print(sayılar_1)\n",
    "\n",
    "sayılar_1.insert(1, 5) #1. indeksine 5 elemanını ekle demek. 1. dizine indeksine  5 ekler gerisine omuz atıp sağa kaydırır.\n",
    "print(sayılar_1)\n",
    "\n",
    "sayılar_1.insert(-1, 16) # -1'den 16 elemanını ekledi. -1'deki 5 elemanını sağa kaydırdı.\n",
    "print(sayılar_1)\n",
    "\n",
    "sayılar_1.insert(100, 17) #belirttiğin indis sayısı son indisini aşıyorsa en sona ekler.\n",
    "\n",
    "sayılar_1.remove(3) #parantez içiyle eşleşen belirli bir elemanı siler. eşleşen eleman yoksa hata verir.aynı değerden birçok olsaydı en soldakini, yani ilkini silerdi.\n",
    "print(sayılar_1)\n",
    "\n",
    "silinen =sayılar_1.pop(0) #parantez içinde yazan indexdeki elemanı siler. bişey yazmazsan default index -1 olduğu için son elemanı siler.sildiği elemanı da çıktı verir.Eğer liste boşsa ya da parantez içindeki index mevcut değilse hata verir. sayılar_1.pop(7) hata verir mesela\n",
    "print(silinen)\n",
    "print(sayılar_1)\n",
    "\n",
    "print(sayılar_1.count(5)) # parantez içine yazılan elemandan listede kaç tane bulunduğunu söyler.eleman yoksa 0 çıktısı verir.\n",
    "\n",
    "sayılar_1.sort() #liste içindeki elemanları küçükten büyüğe sıralar. elemanların hepsi string ise ilk elemanlarının ascii karşılığına göre sıralama yapar.liste içerisinde farklı data type'lar varsa sort methodu hata verir.\n",
    "print(sayılar_1)\n",
    "\n",
    "sayılar_1.sort(reverse = True) #liste içindeki elemanları büyükten küçüğe sıralar.\n",
    "print(sayılar_1)\n",
    "\n",
    "sayılar_1.clear() #listenin içini tamamen temizler\n",
    "print(sayılar_1)\n",
    "\n",
    "del sayılar_1 #sayılar_1 değişkenini hiç tanımlanmamış gibi siler.\n"
   ]
  },
  {
   "cell_type": "code",
   "execution_count": 72,
   "metadata": {},
   "outputs": [
    {
     "name": "stdout",
     "output_type": "stream",
     "text": [
      "3\n",
      "['Murat', 'ayşe', 'mehmet', 'seyda']\n",
      "['Murat', 'ayşe', 'mehmet', 'seyda', 1, 2]\n",
      "['Murat', 'ayşe', 'mehmet', 'seyda', 1, 2, 't', 'e', 'c', 'h', 'p', 'r', 'o']\n"
     ]
    },
    {
     "data": {
      "text/plain": [
       "[3, 5, 4, 2, 1]"
      ]
     },
     "execution_count": 72,
     "metadata": {},
     "output_type": "execute_result"
    }
   ],
   "source": [
    "karışık = [1, 0.0, False, 2, True, 1, 1.0, 0, \"\", \"irem\"]\n",
    "print(karışık.count(0)) #tüm false'a eşit değerleri saydı, ancak falsy değerleri saymadı.dikkat et.\n",
    "\n",
    "isimler_2 = [\"Murat\", \"ayşe\", \"seyda\", \"mehmet\",]\n",
    "isimler_2.sort()\n",
    "print(isimler_2)\n",
    "\n",
    "isimler_2.extend([1, 2]) #iterable girdi alarak liste'ye  liste append yapar gibi düşünebilirz. bu iterable girdiyi paçalayarak tek tek tüm indislerini listeye eleman olarak ekler.\n",
    "print(isimler_2)\n",
    "\n",
    "isimler_2.extend(\"techpro\") #parantez içine int gibi iterable olmayan eleman alırsan hata verir.İfadeyi perçalayarak her bir elemanını listeye ekler.\n",
    "print(isimler_2)\n",
    "\n",
    "sayılar_2 = [1, 2, 4, 5, 3]\n",
    "sayılar_2.reverse() #listenin inekslerini tersine döndürür. sonunucu index 0., sondan 2. index 1. olur.\n",
    "sayılar_2\n"
   ]
  },
  {
   "cell_type": "markdown",
   "metadata": {},
   "source": [
    "### TUPLES"
   ]
  },
  {
   "cell_type": "code",
   "execution_count": null,
   "metadata": {},
   "outputs": [],
   "source": [
    "#immutable, stringler gibi, listelerin aksine. assign işlemi yapmadan değiştirilemez. \n",
    "#iterable\n",
    "#tuplelar listelere göre daha hızlı çalışır ve daha güvenlidir. çünkü içinden eleman silemezsin.Türkçe karşılığı ise \"demet\"."
   ]
  },
  {
   "cell_type": "code",
   "execution_count": null,
   "metadata": {},
   "outputs": [
    {
     "name": "stdout",
     "output_type": "stream",
     "text": [
      "('T', 'e', 'c', 'h', 'p', 'r', 'o')\n",
      "(1, 2, 3, 4, 5)\n",
      "('Techpro', 3, 3.14, False, [1, 2, 3])\n",
      "('Techpro',)\n",
      "techpro\n",
      "1\n"
     ]
    },
    {
     "data": {
      "text/plain": [
       "('techpro',)"
      ]
     },
     "execution_count": 41,
     "metadata": {},
     "output_type": "execute_result"
    }
   ],
   "source": [
    "print(tuple(\"Techpro\")) #içine iterable eleman alıp bunu tuple'a çevirir. tuple() fonksiyonu parantez içine tek bir iterable eleman alır. içiine intiger gibi iterable olmayan bir eleman alırsa hata verir.\n",
    "\n",
    "print(tuple([1,2,3,4,5])) # örneğin tuple([1,2,3], \"Techpro\") ifadesi birden çok eleman içerdiği için hata verirdi.\n",
    "\n",
    "tuple_1= (\"Techpro\", 3, 3.14, False, [1,2,3]) #tuple fonksiyonu dışında bu şekilde de tuple tanımlanabilir.\n",
    "print(tuple_1)\n",
    "\n",
    "#tuple'ın ikinci tanımlanma yönteminde parantez içine tek eleman verirsek sonrasında mutlaka virgül koymamaız gerekir. yoksa tuple oluşturmaz.\n",
    "tuple_2 = (\"Techpro\",) \n",
    "tuple_3 = (\"techpro\")\n",
    "print(tuple_2)\n",
    "print(tuple_3)\n",
    "\n",
    "print(len(tuple_2)) # virgülü eleman olarak saymıyor kafan karışmasın.\n",
    "\n",
    "\"techpro\","
   ]
  },
  {
   "cell_type": "code",
   "execution_count": null,
   "metadata": {},
   "outputs": [
    {
     "name": "stdout",
     "output_type": "stream",
     "text": [
      "(3, 14)\n",
      "<class 'tuple'>\n",
      "2\n",
      "122.3\n",
      "<class 'float'>\n"
     ]
    }
   ],
   "source": [
    "pi_number= 3,14 #bu da tuple tanımlamanın başka bir yolu. virgül önemli. ancak paranteze gerek yok demek ki. ama liste yaparken köşeli parantez gerekliydi.\n",
    "print(pi_number)\n",
    "print(type(pi_number))\n",
    "print(len(pi_number))\n",
    "tek_elemanlı_1= (122.3) #virgül koymadım tupple yapmadı parantez içindeki data type'ı algıladı sadece\n",
    "print(tek_elemanlı_1)\n",
    "print(type(tek_elemanlı_1))\n"
   ]
  },
  {
   "cell_type": "code",
   "execution_count": null,
   "metadata": {},
   "outputs": [
    {
     "name": "stdout",
     "output_type": "stream",
     "text": [
      "<class 'str'>\n"
     ]
    },
    {
     "data": {
      "text/plain": [
       "tuple"
      ]
     },
     "execution_count": 9,
     "metadata": {},
     "output_type": "execute_result"
    }
   ],
   "source": [
    "print(type(\"techpro\",)) #burdaki parantez type fonksiyonuna ait. o yüzden içerde string var da devam edecekmiş gibi algıar türüne string der\n",
    "type((\"techpro\",))\n",
    "#type(1,2) ifadesi ise hata verir.\n"
   ]
  },
  {
   "cell_type": "code",
   "execution_count": null,
   "metadata": {},
   "outputs": [
    {
     "name": "stdout",
     "output_type": "stream",
     "text": [
      "(1, 2, 3, 4, 5)\n",
      "(1, 2, 3, 1, 2, 3, 1, 2, 3)\n"
     ]
    }
   ],
   "source": [
    "#tuple'larla toplama ve çarpma yapılabilir.\n",
    "print((1,2,3) + (4,5))\n",
    "print((1,2,3) * 3)\n",
    "#(\"Techpro\", 3, False) + (\"Sedat\") #ikinci ifade string, virgül yok hata verir"
   ]
  },
  {
   "cell_type": "code",
   "execution_count": null,
   "metadata": {},
   "outputs": [
    {
     "name": "stdout",
     "output_type": "stream",
     "text": [
      "Tulay\n",
      "2\n"
     ]
    },
    {
     "data": {
      "text/plain": [
       "(4, True, ['Tulay', 5, 6])"
      ]
     },
     "execution_count": 11,
     "metadata": {},
     "output_type": "execute_result"
    }
   ],
   "source": [
    "#tuple'larda indexleme ve slicing:\n",
    "tuple_4 = (\"Aslan\", 4, True, [\"Tulay\",5,6], (\"Zeynep\",2,3.14) )\n",
    "print(tuple_4[3][0]) #print() olmasa iç fonksiyonun çıktısı 'Tulay'\n",
    "print(tuple_4[4][1])\n",
    "tuple_4[1:4] #slicing sonucunda gelen ifade slicing yaptığın şeyin türü şeklinde gelir. boş bile olsa sonuç. ama indexlemede işaret ettiğin indexin türü şeklinde çıktı verir.\n",
    "#tuple_2[0]= 5 #bu ifade hata verir. çünkü tuple'lar mutable değildir.değiştirmek için tüm tuple'a yeniden assignment yapmak gerekir. ama veri eklemede sorun yok.var olan index değiştirilemez. index bir listeyse tekrar düşün?"
   ]
  },
  {
   "cell_type": "code",
   "execution_count": null,
   "metadata": {},
   "outputs": [
    {
     "data": {
      "text/plain": [
       "('Aslan', 4, True, ['Tulay', 5, 6, 7], ('Zeynep', 2, 3.14))"
      ]
     },
     "execution_count": 12,
     "metadata": {},
     "output_type": "execute_result"
    }
   ],
   "source": [
    "tuple_4[3].append(7) #işaret edilen indexte bir liste varsa bu  liste değiştirilebilir, bu listeye veri eklenebilir.bir Alt komut satırındaki gibi düşün.aslında index değişmiyor çünkü\n",
    "tuple_4"
   ]
  },
  {
   "cell_type": "code",
   "execution_count": null,
   "metadata": {},
   "outputs": [
    {
     "data": {
      "text/plain": [
       "('Aslan', 4, True, ['tulay', 5, 6, 7], ('Zeynep', 2, 3.14))"
      ]
     },
     "execution_count": 13,
     "metadata": {},
     "output_type": "execute_result"
    }
   ],
   "source": [
    "liste_1= [\"tulay\", 5, 6]\n",
    "tuple_4=('Aslan', 4, True, liste_1, ('Zeynep', 2, 3.14))\n",
    "tuple_4[3].append(7) #tuple içine tuple'da olur, list'te olur.\n",
    "tuple_4\n",
    "#del tuple_2[3] # bu ifade de hata verir. çünkü tuple immutable, belli bi indexini silemezsin. ama tüm tuple'ı silebilirsin. "
   ]
  },
  {
   "cell_type": "code",
   "execution_count": 73,
   "metadata": {},
   "outputs": [
    {
     "name": "stdout",
     "output_type": "stream",
     "text": [
      "2\n",
      "1\n"
     ]
    }
   ],
   "source": [
    "tuple_5 = (1, 4, 2, 5, 1, 3, 2, 4)\n",
    "print(tuple_5.count(4))\n",
    "print(tuple_5.index(4)) #parantexdeki elemanın hangi indexte olduğunu ilkini döndürür.eleman yoksa hata."
   ]
  },
  {
   "cell_type": "code",
   "execution_count": null,
   "metadata": {},
   "outputs": [
    {
     "name": "stdout",
     "output_type": "stream",
     "text": [
      "[1, 3, 5, 7, 9, 11]\n",
      "(0, 1, 2, 3, 4, 5)\n",
      "<class 'range'>\n"
     ]
    },
    {
     "data": {
      "text/plain": [
       "5"
      ]
     },
     "execution_count": 15,
     "metadata": {},
     "output_type": "execute_result"
    }
   ],
   "source": [
    "###range () fonksiyonu: range(start, stop, step ) belirli aralıktaki tam sayıları sıralar. floatla çalışmaz.tuple ya da liste oluşturmak için kullanılabilir.[start, stop) şeklinde tanımlanabilir kapsadığı alan. start default 0'dır. step default 1'dir.tek değer yazarsan onu stop kabul eder, 0'dan o sayaıya kadar sıralar.\n",
    "\n",
    "liste_11= list(range(1,13,2)) #list(range()) ifadesinde stop noktasının bir defaultu olmadığı için hata verir.\n",
    "print(liste_11)\n",
    "\n",
    "tuple_6=tuple(range(6))\n",
    "print(tuple_6)\n",
    "print(type(range(4,10))) #o zaman range'lerde iterable, ama immutable\n",
    "range(4,10)[1] \n"
   ]
  },
  {
   "cell_type": "code",
   "execution_count": null,
   "metadata": {},
   "outputs": [
    {
     "name": "stdout",
     "output_type": "stream",
     "text": [
      "Help on class range in module builtins:\n",
      "\n",
      "class range(object)\n",
      " |  range(stop) -> range object\n",
      " |  range(start, stop[, step]) -> range object\n",
      " |\n",
      " |  Return an object that produces a sequence of integers from start (inclusive)\n",
      " |  to stop (exclusive) by step.  range(i, j) produces i, i+1, i+2, ..., j-1.\n",
      " |  start defaults to 0, and stop is omitted!  range(4) produces 0, 1, 2, 3.\n",
      " |  These are exactly the valid indices for a list of 4 elements.\n",
      " |  When step is given, it specifies the increment (or decrement).\n",
      " |\n",
      " |  Methods defined here:\n",
      " |\n",
      " |  __bool__(self, /)\n",
      " |      True if self else False\n",
      " |\n",
      " |  __contains__(self, key, /)\n",
      " |      Return bool(key in self).\n",
      " |\n",
      " |  __eq__(self, value, /)\n",
      " |      Return self==value.\n",
      " |\n",
      " |  __ge__(self, value, /)\n",
      " |      Return self>=value.\n",
      " |\n",
      " |  __getattribute__(self, name, /)\n",
      " |      Return getattr(self, name).\n",
      " |\n",
      " |  __getitem__(self, key, /)\n",
      " |      Return self[key].\n",
      " |\n",
      " |  __gt__(self, value, /)\n",
      " |      Return self>value.\n",
      " |\n",
      " |  __hash__(self, /)\n",
      " |      Return hash(self).\n",
      " |\n",
      " |  __iter__(self, /)\n",
      " |      Implement iter(self).\n",
      " |\n",
      " |  __le__(self, value, /)\n",
      " |      Return self<=value.\n",
      " |\n",
      " |  __len__(self, /)\n",
      " |      Return len(self).\n",
      " |\n",
      " |  __lt__(self, value, /)\n",
      " |      Return self<value.\n",
      " |\n",
      " |  __ne__(self, value, /)\n",
      " |      Return self!=value.\n",
      " |\n",
      " |  __reduce__(...)\n",
      " |      Helper for pickle.\n",
      " |\n",
      " |  __repr__(self, /)\n",
      " |      Return repr(self).\n",
      " |\n",
      " |  __reversed__(...)\n",
      " |      Return a reverse iterator.\n",
      " |\n",
      " |  count(...)\n",
      " |      rangeobject.count(value) -> integer -- return number of occurrences of value\n",
      " |\n",
      " |  index(...)\n",
      " |      rangeobject.index(value) -> integer -- return index of value.\n",
      " |      Raise ValueError if the value is not present.\n",
      " |\n",
      " |  ----------------------------------------------------------------------\n",
      " |  Static methods defined here:\n",
      " |\n",
      " |  __new__(*args, **kwargs) from builtins.type\n",
      " |      Create and return a new object.  See help(type) for accurate signature.\n",
      " |\n",
      " |  ----------------------------------------------------------------------\n",
      " |  Data descriptors defined here:\n",
      " |\n",
      " |  start\n",
      " |\n",
      " |  step\n",
      " |\n",
      " |  stop\n",
      "\n"
     ]
    }
   ],
   "source": [
    "help(range)"
   ]
  },
  {
   "cell_type": "markdown",
   "metadata": {},
   "source": [
    "## DICTIONARIES"
   ]
  },
  {
   "cell_type": "code",
   "execution_count": 76,
   "metadata": {},
   "outputs": [],
   "source": [
    "#??? acaba dictionary'lerde slicing mümkün mü?\n",
    "#mutable\n",
    "#iterable #iterable ancak indexlemeyi index numarasına göre değil, key'lerine göre yapar. yani köşeli parantez içine key adı yazarsın, o keye karşılık gelen value'yu döndürür. eşleşme yoksa hata verir."
   ]
  },
  {
   "cell_type": "code",
   "execution_count": 77,
   "metadata": {},
   "outputs": [
    {
     "name": "stdout",
     "output_type": "stream",
     "text": [
      "{'key': 'value1', 'key2': 'value2', 'age': 30, 0: 3.14}\n",
      "dict_items([('key', 'value1'), ('key2', 'value2'), ('age', 30), (0, 3.14)])\n",
      "dict_keys(['key', 'key2', 'age', 0])\n"
     ]
    },
    {
     "data": {
      "text/plain": [
       "dict_values(['value1', 'value2', 30, 3.14])"
      ]
     },
     "execution_count": 77,
     "metadata": {},
     "output_type": "execute_result"
    }
   ],
   "source": [
    "dict_dısardanalma = {\"name\" : input(\"isminizi girin\")}\n",
    "dict_1= {\"key\": \"value1\", \"key2\" : \"value2\", \"age\" : 30, 0 : 3.14 } #boş key kabul etmiyor. key yada value'su farklı type'larda olabilir.yalnızca keyleri list, dict, set data type'nda olamaz.\n",
    "print(dict_1)\n",
    "len(dict_1) #1 key ve eşleştiği  1 value'yu bir eleman olarak algılıyor.\n",
    "print(dict_1.items()) ##items dictionay'nin elemanlarını tek tek görmemizi sağlar. bir liste içinde tuple şeklinde key-value çiftlerini gösterdi.\n",
    "print(dict_1.keys()) #sadece keyleri bir liste içinde gösterir.\n",
    "dict_1.values() #sadece value'ları bir liste içinde gösterir."
   ]
  },
  {
   "cell_type": "code",
   "execution_count": 78,
   "metadata": {},
   "outputs": [
    {
     "name": "stdout",
     "output_type": "stream",
     "text": [
      "30\n",
      "one\n",
      "{(1, 2, 3): \"sayılar tuple'ı\"}\n",
      "{'öğrenci1': ['orkun', 32, 'data science'], 'öğrenci2': ('bilkay', 25, 'python_developer')}\n"
     ]
    },
    {
     "data": {
      "text/plain": [
       "dict_keys(['öğrenci1', 'öğrenci2'])"
      ]
     },
     "execution_count": 78,
     "metadata": {},
     "output_type": "execute_result"
    }
   ],
   "source": [
    "#indexing\n",
    "print(dict_1 [\"age\"])\n",
    "dict_2 = { 1: \"one\",0 :\"zero\", 2 : \"two\"}\n",
    "print(dict_2[1]) #sonuç verdi, çünkü  keyi 1 olan elemanı var.\n",
    "dict_3 = { (1,2,3) : \"sayılar tuple'ı\"} #tuple'lar key olabilir.\n",
    "print(dict_3)\n",
    "dict_4 = {\"öğrenci1\" : [\"orkun\", 32, \"data science\"], \"öğrenci2\" : (\"bilkay\", 25, \"python_developer\"), } #tuple'lar da listeler de  value olabilir. eğer value değişmeyecek bilgiler içeriyorsa tuple yapmak daha mantıklıdır.\n",
    "print (dict_4)\n",
    "dict_4.keys()\n",
    "\n"
   ]
  },
  {
   "cell_type": "code",
   "execution_count": 79,
   "metadata": {},
   "outputs": [
    {
     "ename": "TypeError",
     "evalue": "unhashable type: 'list'",
     "output_type": "error",
     "traceback": [
      "\u001b[1;31m---------------------------------------------------------------------------\u001b[0m",
      "\u001b[1;31mTypeError\u001b[0m                                 Traceback (most recent call last)",
      "Cell \u001b[1;32mIn[79], line 1\u001b[0m\n\u001b[1;32m----> 1\u001b[0m dict_5 \u001b[38;5;241m=\u001b[39m { [\u001b[38;5;241m1\u001b[39m,\u001b[38;5;241m2\u001b[39m,\u001b[38;5;241m3\u001b[39m] : \u001b[38;5;124m\"\u001b[39m\u001b[38;5;124msayılar listesi\u001b[39m\u001b[38;5;124m\"\u001b[39m} \u001b[38;5;66;03m#listeler key olarak atanamaz.hata verdi.\u001b[39;00m\n",
      "\u001b[1;31mTypeError\u001b[0m: unhashable type: 'list'"
     ]
    }
   ],
   "source": [
    "dict_5 = { [1,2,3] : \"sayılar listesi\"} #listeler key olarak atanamaz.hata verdi."
   ]
  },
  {
   "cell_type": "code",
   "execution_count": 80,
   "metadata": {},
   "outputs": [
    {
     "name": "stdout",
     "output_type": "stream",
     "text": [
      "Help on method_descriptor:\n",
      "\n",
      "keys(...)\n",
      "    D.keys() -> a set-like object providing a view on D's keys\n",
      "\n"
     ]
    }
   ],
   "source": [
    "help(dict.keys)\n"
   ]
  },
  {
   "cell_type": "code",
   "execution_count": 81,
   "metadata": {},
   "outputs": [
    {
     "name": "stdout",
     "output_type": "stream",
     "text": [
      "{'öğrenci1': ['orkun', 32, 'data science'], 'öğrenci2': ('bilkay', 25, 'python_developer')}\n"
     ]
    },
    {
     "data": {
      "text/plain": [
       "{'öğrenci1': ['orkun', 36, 'data science'],\n",
       " 'öğrenci2': ('bilkay', 25, 'python_developer')}"
      ]
     },
     "execution_count": 81,
     "metadata": {},
     "output_type": "execute_result"
    }
   ],
   "source": [
    "print(dict_4)\n",
    "dict_4[\"öğrenci1\"][1] = 36 #ilk ifadenin sonucu artık bir liste olduğu için liste methodlarını devamında kullanabiliriz.bir dictionari'nin sadece valueları değiştirilebilir?\n",
    "dict_4"
   ]
  },
  {
   "cell_type": "code",
   "execution_count": 82,
   "metadata": {},
   "outputs": [
    {
     "name": "stdout",
     "output_type": "stream",
     "text": [
      "{'one': 1, 'two': 2, 'three': 3}\n"
     ]
    },
    {
     "data": {
      "text/plain": [
       "{'one': '1', 'two': '2', 'three': '3'}"
      ]
     },
     "execution_count": 82,
     "metadata": {},
     "output_type": "execute_result"
    }
   ],
   "source": [
    "print(dict(one = 1, two = 2, three = 3)) #dict fonksiyonu ile dictionary tanımlarken yani dict() şeklinde tanımlarken sanki bir değişken ataması yapar gibi yapıyosun. o yüzden değişken gibi gördüğü için isimlendirmede başında harf ya da biryerinde özel karakter olan key atamalarında hata veriyor. dict fonksiyonu key değerlerini otomatik string'e çeviriyor.bu sebeple pek kullanılmaz bu dict oluşturma yöntemi.\n",
    "#mesela : dict(1 = \"1\", 2 = \"2\", 3 = \"3\") ifadesi hata verir. keyler rakam ile başlıyor.Değişken rakam ile başlamaz.\n",
    "dict_6=dict(one = \"1\", two = \"2\", three = \"3\") \n",
    "dict_6"
   ]
  },
  {
   "cell_type": "code",
   "execution_count": 83,
   "metadata": {},
   "outputs": [
    {
     "name": "stdout",
     "output_type": "stream",
     "text": [
      "{'name': 'sedat', 'name2': 'murat', 'name3': 'ebru'}\t\t{'name': 'sedat', 'name2': 'murat', 'name3': 'ebru'}\n"
     ]
    }
   ],
   "source": [
    "liste_13 = [(\"name\", \"sedat\"), (\"name2\", \"murat\"), (\"name3\", \"ebru\")] #bu şekile ikili ikili olmasaydı dict yapamazdı.\n",
    "tuple_7= ([\"name\", \"sedat\"], (\"name2\", \"murat\"), [\"name3\", \"ebru\"])\n",
    "dict_6=dict(liste_13)\n",
    "dict_7=dict(tuple_7)\n",
    "print(dict_6, dict_7, sep = \"\\t\\t\") #yani önemli olan ikili formaattır. list ya da tupleolması çok önemli değildir."
   ]
  },
  {
   "cell_type": "code",
   "execution_count": 85,
   "metadata": {},
   "outputs": [
    {
     "name": "stdout",
     "output_type": "stream",
     "text": [
      "{'öğrenci1': ['orkun', 36, 'data science'], 'öğrenci2': ('bilkay', 25, 'python_developer')}\n",
      "\n",
      "dict_items([('öğrenci1', ['orkun', 36, 'data science']), ('öğrenci2', ('bilkay', 25, 'python_developer'))])\n",
      "\n",
      "[('öğrenci1', ['orkun', 36, 'data science']), ('öğrenci2', ('bilkay', 25, 'python_developer'))]\n",
      "\n",
      "['öğrenci1', 'öğrenci2']\n",
      "\n",
      "[('öğrenci1', ['orkun', 36, 'data science']), ('öğrenci2', ('bilkay', 25, 'python_developer'))]\n"
     ]
    },
    {
     "data": {
      "text/plain": [
       "('öğrenci1', ['orkun', 36, 'data science'])"
      ]
     },
     "execution_count": 85,
     "metadata": {},
     "output_type": "execute_result"
    }
   ],
   "source": [
    "print(dict_4, end=\"\\n\\n\")\n",
    "print(dict_4.items(),end=\"\\n\\n\")\n",
    "print(list(dict_4.items()), end=\"\\n\\n\")\n",
    "print(list(dict_4), end=\"\\n\\n\") #bu şekilde yaparsan sadece keyleri list yapar.\n",
    "liste_2= list(dict_4.items()) #bazen dicionary ile yapamadığımız işlemleri, dictionary'leri liste çevirerek list ile yapabiliriz.\n",
    "print(liste_2)\n",
    "liste_2[0]\n"
   ]
  },
  {
   "cell_type": "code",
   "execution_count": 89,
   "metadata": {},
   "outputs": [
    {
     "name": "stdout",
     "output_type": "stream",
     "text": [
      "{'friend1': 'ali', 'friend2': 'veli', 'friend3': 'ebru'}\n"
     ]
    },
    {
     "data": {
      "text/plain": [
       "{'friend1': 'ali', 'friend2': 'veli', 'friend3': 'ebru', 'friend4': 'Aytaç'}"
      ]
     },
     "execution_count": 89,
     "metadata": {},
     "output_type": "execute_result"
    }
   ],
   "source": [
    "dict_friend=dict(friend1 = \"ali\", friend2 = \"veli\", friend3 = \"ebru\")\n",
    "print(dict_friend)\n",
    "#dict_friend [\"friend4\"] gibi bir ifade \"friend4\" adında key olmadığı için hata verir.\n",
    "dict_friend [\"friend4\"] = \"Aytaç\" #demekki key deitştirlemez ama olmayan bir key assign işlemi ile dictionary'ye ekleme yapılabilir.\n",
    "dict_friend"
   ]
  },
  {
   "cell_type": "code",
   "execution_count": 90,
   "metadata": {},
   "outputs": [
    {
     "data": {
      "text/plain": [
       "{'friend1': 'ali', 'friend2': 'veli', 'friend3': 'ebru'}"
      ]
     },
     "execution_count": 90,
     "metadata": {},
     "output_type": "execute_result"
    }
   ],
   "source": [
    "del dict_friend[\"friend4\"] #keyi sildik. Ayrıca bir listeye farklı keyler için birbiriyle aynı value'lar girebilirsin. ancak key'ler eşsizdir.birebir  aynı şekilde iki adet key bulunmaz\n",
    "dict_friend\n"
   ]
  },
  {
   "cell_type": "code",
   "execution_count": null,
   "metadata": {},
   "outputs": [
    {
     "data": {
      "text/plain": [
       "{'tek sayılar': [1, 3, 5, 7, 9], 'çift sayılar': [2, 4, 6, 8]}"
      ]
     },
     "execution_count": 4,
     "metadata": {},
     "output_type": "execute_result"
    }
   ],
   "source": [
    "sayilar = {\"tek sayılar\" : [], \"çift sayılar\" : []}\n",
    "sayilar[\"tek sayılar\"].extend(range(1,10,2)) #dictionary'deki bu indeksleme bir liste döndürdüğü için listeye ait methodlar sonrasında uygulanabildi.\n",
    "sayilar[\"çift sayılar\"].append(2)\n",
    "sayilar[\"çift sayılar\"].append(4)\n",
    "sayilar[\"çift sayılar\"].append(6)\n",
    "sayilar[\"çift sayılar\"].append(8)\n",
    "sayilar"
   ]
  },
  {
   "cell_type": "code",
   "execution_count": 92,
   "metadata": {},
   "outputs": [
    {
     "name": "stdout",
     "output_type": "stream",
     "text": [
      "{'friend1': 'ali', 'friend2': 'veli', 'friend3': 'ebru'}\n"
     ]
    },
    {
     "data": {
      "text/plain": [
       "{'friend1': 'ali',\n",
       " 'friend2': 'veli',\n",
       " 'friend3': 'ebru',\n",
       " 'friend_6': 'mehmet',\n",
       " 'friend7': 'ada'}"
      ]
     },
     "execution_count": 92,
     "metadata": {},
     "output_type": "execute_result"
    }
   ],
   "source": [
    "### methods of dictionaries\n",
    "dict_friend=dict(friend1 = \"ali\", friend2 = \"veli\", friend3 = \"ebru\")\n",
    "print(dict_friend)\n",
    "dict_friend.update({\"friend_6\" :\"mehmet\"} ) #update dictionary'inin içine yine bir dictionary formatı ile key-value ikilisi ekler. sıralama olmadığı için aslında herhangi bir yere ekler ancak biz sonunda görürüz.Varolan bir key ve yeni bir value yazarsan mevcut keydeki value'yu değiştirir.\n",
    "bb = {\"friend7\" : \"ada\" }\n",
    "dict_friend.update(bb )\n",
    "dict_friend\n",
    "#bb + dict_friend #dictionary'lerde matematiksel işlemler yapılamaz.\n"
   ]
  },
  {
   "cell_type": "code",
   "execution_count": null,
   "metadata": {},
   "outputs": [
    {
     "name": "stdout",
     "output_type": "stream",
     "text": [
      "{}\n",
      "{}\n",
      "{}\n"
     ]
    }
   ],
   "source": [
    "dict_friend.clear() #dictionary'yi ramden silmez içini boşaltır.\n",
    "print(dict_friend)\n",
    "empty_dict={}\n",
    "print(empty_dict)\n",
    "empty_dict2=dict()\n",
    "print(empty_dict2)"
   ]
  },
  {
   "cell_type": "code",
   "execution_count": null,
   "metadata": {},
   "outputs": [
    {
     "data": {
      "text/plain": [
       "{'öğrenci2': ['bilkay', 25, 'python_developer']}"
      ]
     },
     "execution_count": 42,
     "metadata": {},
     "output_type": "execute_result"
    }
   ],
   "source": [
    "dict_9 = {\"öğrenci1\" : [\"orkun\", 32, \"data science\"], \"öğrenci2\" : [\"bilkay\", 25, \"python_developer\"], }\n",
    "dict_9.pop(\"öğrenci1\") #içini boş bırakırsan dictionary'de sondakini silmiyor.hata veriyor.\n",
    "dict_9 #pop() içine virgül koyarak ikinci bir key koyarsan yalnızca ilk keyin -value'sunu siler yalnızca, hata vermez. ayrıca dictionary'lerde bir sıralama yoktur. görüntüde sıralama yoktur. sıralı index mantığı da yoktu hatırlarsan.\n"
   ]
  },
  {
   "cell_type": "markdown",
   "metadata": {},
   "source": [
    "### Nested Dictionaries"
   ]
  },
  {
   "cell_type": "code",
   "execution_count": 94,
   "metadata": {},
   "outputs": [
    {
     "name": "stdout",
     "output_type": "stream",
     "text": [
      "dict_items([('child_1', {'name': ('Emily', 'rose'), 'year': 2004}), ('child_2', {'name': 'Tobias', 'year': 2007}), ('child_3', {'name': 'Linus', 'year': 2011})])\n",
      "dict_keys(['child_1', 'child_2', 'child_3'])\n",
      "dict_values([{'name': ('Emily', 'rose'), 'year': 2004}, {'name': 'Tobias', 'year': 2007}, {'name': 'Linus', 'year': 2011}])\n"
     ]
    }
   ],
   "source": [
    "myfamily = {\"child_1\" : {\"name\" : (\"Emily\",\"rose\"), \"year\": 2004},\n",
    "            \"child_2\" : {\"name\" : \"Tobias\", \"year\": 2007},\n",
    "            \"child_3\" : {\"name\" : \"Linus\", \"year\": 2011}}\n",
    "print(myfamily.items())\n",
    "print(myfamily.keys())\n",
    "print(myfamily.values())"
   ]
  },
  {
   "cell_type": "code",
   "execution_count": null,
   "metadata": {},
   "outputs": [
    {
     "name": "stdout",
     "output_type": "stream",
     "text": [
      "{'name': ('Emily', 'rose'), 'year': 2004}\n",
      "dict_items([('name', ('Emily', 'rose')), ('year', 2004)])\n",
      "Tobias\n"
     ]
    },
    {
     "data": {
      "text/plain": [
       "'rose'"
      ]
     },
     "execution_count": 56,
     "metadata": {},
     "output_type": "execute_result"
    }
   ],
   "source": [
    "print(myfamily[\"child_1\"])\n",
    "print(myfamily[\"child_1\"].items())\n",
    "print(myfamily[\"child_2\"][\"name\"])\n",
    "myfamily[\"child_1\"][\"name\"][1] "
   ]
  },
  {
   "cell_type": "markdown",
   "metadata": {},
   "source": [
    "## SETS(kümeler)"
   ]
  },
  {
   "cell_type": "code",
   "execution_count": null,
   "metadata": {},
   "outputs": [
    {
     "data": {
      "text/plain": [
       "{}"
      ]
     },
     "execution_count": 57,
     "metadata": {},
     "output_type": "execute_result"
    }
   ],
   "source": [
    "# kümelerin en büyük özelliği içerisinde bir elemanı birden fazla barındırmaması. farklı data typelardaki elemanları verirsin.sadece aynı elemanı birden çok yazamazsın.\n",
    "#mutable\n",
    "#iterable\n",
    "set() #set oluşturma yöntemleri.\n",
    "{}"
   ]
  },
  {
   "cell_type": "code",
   "execution_count": null,
   "metadata": {},
   "outputs": [
    {
     "name": "stdout",
     "output_type": "stream",
     "text": [
      "{'h', 'e', 'o', 'l'}\n",
      "{'T', 'r', 'p', 'o', 'h', 'e', 'c'}\n"
     ]
    },
    {
     "data": {
      "text/plain": [
       "{'T', 'c', 'e', 'h', 'o', 'p', 'r'}"
      ]
     },
     "execution_count": 63,
     "metadata": {},
     "output_type": "execute_result"
    }
   ],
   "source": [
    "print(set(\"hello\")) #bir elemanı birden fazla kez tutmadığı için fazlalıkları sildi, tek \"l\" var.alfabetik sıray agöre vermez normalde.\n",
    "print(set(\"Techpro\")) #kümeler unordered yapıdadır. bildiğimiz anlamda indekslemek mümkün değildir. farklı yol(?) var.\n"
   ]
  },
  {
   "cell_type": "code",
   "execution_count": null,
   "metadata": {},
   "outputs": [
    {
     "data": {
      "text/plain": [
       "{'black', 'blue', 'green', 'yellow'}"
      ]
     },
     "execution_count": 66,
     "metadata": {},
     "output_type": "execute_result"
    }
   ],
   "source": [
    "{\"blue\", \"green\", \"yellow\", \"blue\", \"green\", \"black\"}"
   ]
  },
  {
   "cell_type": "code",
   "execution_count": null,
   "metadata": {},
   "outputs": [
    {
     "data": {
      "text/plain": [
       "{(4, 5, 6), 25, 3.14, True, 'mikail'}"
      ]
     },
     "execution_count": 5,
     "metadata": {},
     "output_type": "execute_result"
    }
   ],
   "source": [
    "{\"mikail\", 25, True, 3.14,  (4,5,6)}"
   ]
  },
  {
   "cell_type": "code",
   "execution_count": null,
   "metadata": {},
   "outputs": [
    {
     "ename": "TypeError",
     "evalue": "unhashable type: 'list'",
     "output_type": "error",
     "traceback": [
      "\u001b[1;31m---------------------------------------------------------------------------\u001b[0m",
      "\u001b[1;31mTypeError\u001b[0m                                 Traceback (most recent call last)",
      "Cell \u001b[1;32mIn[67], line 1\u001b[0m\n\u001b[1;32m----> 1\u001b[0m {\u001b[38;5;124m\"\u001b[39m\u001b[38;5;124mmikail\u001b[39m\u001b[38;5;124m\"\u001b[39m, \u001b[38;5;241m25\u001b[39m, \u001b[38;5;28;01mTrue\u001b[39;00m, \u001b[38;5;241m3.14\u001b[39m, [\u001b[38;5;241m1\u001b[39m,\u001b[38;5;241m2\u001b[39m,\u001b[38;5;241m3\u001b[39m], (\u001b[38;5;241m4\u001b[39m,\u001b[38;5;241m5\u001b[39m,\u001b[38;5;241m6\u001b[39m)} \u001b[38;5;66;03m#kümeler içinde liste barındırmaz.tuple barındırabilir. yukarıda listeye hata verdi.\u001b[39;00m\n\u001b[0;32m      2\u001b[0m {\u001b[38;5;124m\"\u001b[39m\u001b[38;5;124mmikail\u001b[39m\u001b[38;5;124m\"\u001b[39m, \u001b[38;5;241m25\u001b[39m, \u001b[38;5;28;01mTrue\u001b[39;00m, \u001b[38;5;241m3.14\u001b[39m,  (\u001b[38;5;241m4\u001b[39m,\u001b[38;5;241m5\u001b[39m,\u001b[38;5;241m6\u001b[39m), {\u001b[38;5;124m\"\u001b[39m\u001b[38;5;124mname\u001b[39m\u001b[38;5;124m\"\u001b[39m : \u001b[38;5;124m\"\u001b[39m\u001b[38;5;124msedat\u001b[39m\u001b[38;5;124m\"\u001b[39m}} \u001b[38;5;66;03m#yine içine dictionary'de alamaz yine hata verdi\u001b[39;00m\n",
      "\u001b[1;31mTypeError\u001b[0m: unhashable type: 'list'"
     ]
    }
   ],
   "source": [
    "{\"mikail\", 25, True, 3.14, [1,2,3], (4,5,6)} #kümeler içinde liste barındırmaz.tuple barındırabilir.listeye hata verdi.\n",
    "{\"mikail\", 25, True, 3.14,  (4,5,6), {\"name\" : \"sedat\"}} #yine içine dictionary'de alamaz yine hata verdi\n",
    "{\"mikail\", 25, True, 3.14,  (4,5,6), {\"name\", \"sedat\"}} #kümeler içine bir başka küme de alamaz"
   ]
  },
  {
   "cell_type": "code",
   "execution_count": null,
   "metadata": {},
   "outputs": [
    {
     "name": "stdout",
     "output_type": "stream",
     "text": [
      "set()\n",
      "<class 'dict'>\n"
     ]
    }
   ],
   "source": [
    "empty_set = set() #boş küme oluşturmanın tek yolu\n",
    "print(empty_set)\n",
    "empty_set2 = {} \n",
    "print(type(empty_set2))\n",
    "#set(\"sedat\", \"ali\") #iki tane yazınca kümeye çevirmez. hata verir."
   ]
  },
  {
   "cell_type": "code",
   "execution_count": null,
   "metadata": {},
   "outputs": [
    {
     "data": {
      "text/plain": [
       "{'defter', 'kalem', 'kalem ucu', 'kağıt', 'silgi'}"
      ]
     },
     "execution_count": 72,
     "metadata": {},
     "output_type": "execute_result"
    }
   ],
   "source": [
    "#bir kırtasiyeci olduğunuzu düşünün\n",
    "liste_sube1=[\"kalem\", \"silgi\", \"kağıt\", \"kalem ucu\"]\n",
    "liste_sube2=[\"silgi\", \"defter\", \"kağıt\" ] #toptancıya gittiniz.hepsini bir arada sipariş vereceksiniz\n",
    "set(liste_sube1 + liste_sube2)"
   ]
  },
  {
   "cell_type": "code",
   "execution_count": 96,
   "metadata": {},
   "outputs": [
    {
     "name": "stdout",
     "output_type": "stream",
     "text": [
      "{False, True, 3.5, 5}\n"
     ]
    },
    {
     "data": {
      "text/plain": [
       "{0.0, 1, 3.5, 5}"
      ]
     },
     "execution_count": 96,
     "metadata": {},
     "output_type": "execute_result"
    }
   ],
   "source": [
    "set_1= {True, False, 1, 5, 0.0, 3.5} #burada bizim yazdığımız sıra önemli. eşit gördüğü şeylerden ilkini alıyor.\n",
    "set_2= {0.0, 1, True, False,  5,  3.5} #burada bizim yazdığımız sıra önemli. eşit gördüğü şeylerden ilkini alıyor.\n",
    "print(set_1)\n",
    "set_2"
   ]
  },
  {
   "cell_type": "code",
   "execution_count": null,
   "metadata": {},
   "outputs": [
    {
     "ename": "TypeError",
     "evalue": "'set' object is not subscriptable",
     "output_type": "error",
     "traceback": [
      "\u001b[1;31m---------------------------------------------------------------------------\u001b[0m",
      "\u001b[1;31mTypeError\u001b[0m                                 Traceback (most recent call last)",
      "Cell \u001b[1;32mIn[83], line 1\u001b[0m\n\u001b[1;32m----> 1\u001b[0m \u001b[43mset_2\u001b[49m\u001b[43m[\u001b[49m\u001b[38;5;241;43m0\u001b[39;49m\u001b[43m]\u001b[49m\n",
      "\u001b[1;31mTypeError\u001b[0m: 'set' object is not subscriptable"
     ]
    }
   ],
   "source": [
    "set_2[0] #kümeler iterable'dır ancak indexlenemez. çünkü belli bir sıra yok."
   ]
  },
  {
   "cell_type": "code",
   "execution_count": null,
   "metadata": {},
   "outputs": [
    {
     "data": {
      "text/plain": [
       "[0.0, 1, 3.5, 5]"
      ]
     },
     "execution_count": 84,
     "metadata": {},
     "output_type": "execute_result"
    }
   ],
   "source": [
    "list(set_2) #list fonksiyonu da hatta hatırlarsan iterable'larla çalışıyordu."
   ]
  },
  {
   "cell_type": "code",
   "execution_count": null,
   "metadata": {},
   "outputs": [
    {
     "name": "stdout",
     "output_type": "stream",
     "text": [
      "0.0\n",
      "1\n",
      "3.5\n",
      "5\n"
     ]
    }
   ],
   "source": [
    "for i in set_2:\n",
    "    print(i) #for döngüsü iterable alır. iterable olduğu için tek tek erişip listeledi."
   ]
  },
  {
   "cell_type": "code",
   "execution_count": 106,
   "metadata": {},
   "outputs": [
    {
     "name": "stdout",
     "output_type": "stream",
     "text": [
      "{'z', 'a', 'n', 's', 'u'}\n",
      "{'z', 'a', 'y', 'v', 'u'}\n"
     ]
    }
   ],
   "source": [
    "set_a = set(\"suzan\")\n",
    "set_b = set(\"yavuz\")\n",
    "print(set_a)\n",
    "print(set_b)"
   ]
  },
  {
   "cell_type": "code",
   "execution_count": null,
   "metadata": {},
   "outputs": [
    {
     "data": {
      "text/plain": [
       "{'a', 'u', 'z'}"
      ]
     },
     "execution_count": 10,
     "metadata": {},
     "output_type": "execute_result"
    }
   ],
   "source": [
    "set_a.intersection(set_b)\n",
    "set_a & set_b#itersection'ın işareti"
   ]
  },
  {
   "cell_type": "code",
   "execution_count": null,
   "metadata": {},
   "outputs": [
    {
     "data": {
      "text/plain": [
       "{'a', 'n', 's', 'u', 'v', 'y', 'z'}"
      ]
     },
     "execution_count": 11,
     "metadata": {},
     "output_type": "execute_result"
    }
   ],
   "source": [
    "set_b.union(set_a)\n",
    "set_a | set_b #union'ın işareti\n"
   ]
  },
  {
   "cell_type": "code",
   "execution_count": null,
   "metadata": {},
   "outputs": [
    {
     "data": {
      "text/plain": [
       "{'v', 'y'}"
      ]
     },
     "execution_count": 12,
     "metadata": {},
     "output_type": "execute_result"
    }
   ],
   "source": [
    "set_b.difference(set_a) \n",
    "set_b-set_a\n"
   ]
  },
  {
   "cell_type": "code",
   "execution_count": null,
   "metadata": {},
   "outputs": [
    {
     "data": {
      "text/plain": [
       "{'n', 's', 'v', 'y'}"
      ]
     },
     "execution_count": 13,
     "metadata": {},
     "output_type": "execute_result"
    }
   ],
   "source": [
    "(set_a | set_b) - (set_b & set_a) #birleşimden kesişimin çıkmış hali\n",
    "set_a.symmetric_difference(set_b) #birleşimden kesişimin çıkmış hali, tek bir meethod ile yapım.\n",
    "set_a ^ set_b #birleşimden kesişimin çıkmış hali, kısayol"
   ]
  },
  {
   "cell_type": "code",
   "execution_count": 107,
   "metadata": {},
   "outputs": [
    {
     "name": "stdout",
     "output_type": "stream",
     "text": [
      "{'ı', 's', 't', 'k', 'f'}\n",
      "{'ı', 'd', 'n', 'k', 'f'}\n"
     ]
    }
   ],
   "source": [
    "set_3 = set(\"fıstık\")\n",
    "set_4 = set(\"fındık\")\n",
    "print(set_3)\n",
    "print(set_4)"
   ]
  },
  {
   "cell_type": "code",
   "execution_count": 108,
   "metadata": {},
   "outputs": [
    {
     "name": "stdout",
     "output_type": "stream",
     "text": [
      "set()\n",
      "{'d', 'n', 'k', 'f'}\n",
      "n\n",
      "{'k', 'f'}\n",
      "{'a'}\n",
      "{'mert', 'a', 'ali'}\n"
     ]
    }
   ],
   "source": [
    "set_3.clear()\n",
    "print(set_3)\n",
    "set_4.remove(\"ı\")\n",
    "print(set_4)\n",
    "set_4.pop() #rastgele bir elaman siler, sildiği elemanı da çıktı verir.\n",
    "print(set_4.pop())\n",
    "print(set_4)\n",
    "set_3.add(\"a\")\n",
    "print(set_3)\n",
    "set_3.update({\"ali\", \"mert\"})\n",
    "print(set_3)"
   ]
  },
  {
   "cell_type": "code",
   "execution_count": null,
   "metadata": {},
   "outputs": [
    {
     "name": "stdout",
     "output_type": "stream",
     "text": [
      "{'l', 'n', 's', 'e', 'i'}\n",
      "{'s', 'n', 'e'}\n"
     ]
    }
   ],
   "source": [
    "set_5= set(\"selin\")\n",
    "set_6= set(\"enes\")\n",
    "print(set_5)\n",
    "print(set_6)"
   ]
  },
  {
   "cell_type": "code",
   "execution_count": null,
   "metadata": {},
   "outputs": [
    {
     "name": "stdout",
     "output_type": "stream",
     "text": [
      "False\n",
      "True\n"
     ]
    }
   ],
   "source": [
    "print(set_5.issubset(set_6))\n",
    "print(set_6.issubset(set_5))"
   ]
  }
 ],
 "metadata": {
  "kernelspec": {
   "display_name": "Python 3",
   "language": "python",
   "name": "python3"
  },
  "language_info": {
   "codemirror_mode": {
    "name": "ipython",
    "version": 3
   },
   "file_extension": ".py",
   "mimetype": "text/x-python",
   "name": "python",
   "nbconvert_exporter": "python",
   "pygments_lexer": "ipython3",
   "version": "3.12.2"
  }
 },
 "nbformat": 4,
 "nbformat_minor": 2
}
